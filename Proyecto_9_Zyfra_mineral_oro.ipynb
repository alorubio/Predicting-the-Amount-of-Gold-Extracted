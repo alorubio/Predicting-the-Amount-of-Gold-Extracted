{
 "cells": [
  {
   "cell_type": "code",
   "execution_count": 1,
   "metadata": {},
   "outputs": [],
   "source": [
    "#Se importan las librerías a utilizar en el proyecto\n",
    "\n",
    "import pandas as pd\n",
    "import matplotlib.pyplot as plt\n",
    "import numpy as np\n",
    "from sklearn.metrics import mean_absolute_error\n",
    "from sklearn.metrics import make_scorer\n",
    "from sklearn.linear_model import LinearRegression\n",
    "from sklearn.tree import DecisionTreeRegressor\n",
    "from sklearn.ensemble import RandomForestRegressor\n",
    "from sklearn.model_selection import cross_val_score"
   ]
  },
  {
   "cell_type": "code",
   "execution_count": 2,
   "metadata": {},
   "outputs": [],
   "source": [
    "#Se cargan los datasets a utilizar\n",
    "\n",
    "df_train = pd.read_csv('/datasets/gold_recovery_train.csv')\n",
    "df_test = pd.read_csv('/datasets/gold_recovery_test.csv')\n",
    "df_full = pd.read_csv('/datasets/gold_recovery_full.csv')\n",
    "\n",
    "pd.options.mode.chained_assignment = None"
   ]
  },
  {
   "cell_type": "code",
   "execution_count": 3,
   "metadata": {},
   "outputs": [
    {
     "name": "stdout",
     "output_type": "stream",
     "text": [
      "<class 'pandas.core.frame.DataFrame'>\n",
      "RangeIndex: 16860 entries, 0 to 16859\n",
      "Data columns (total 87 columns):\n",
      " #   Column                                              Non-Null Count  Dtype  \n",
      "---  ------                                              --------------  -----  \n",
      " 0   date                                                16860 non-null  object \n",
      " 1   final.output.concentrate_ag                         16788 non-null  float64\n",
      " 2   final.output.concentrate_pb                         16788 non-null  float64\n",
      " 3   final.output.concentrate_sol                        16490 non-null  float64\n",
      " 4   final.output.concentrate_au                         16789 non-null  float64\n",
      " 5   final.output.recovery                               15339 non-null  float64\n",
      " 6   final.output.tail_ag                                16794 non-null  float64\n",
      " 7   final.output.tail_pb                                16677 non-null  float64\n",
      " 8   final.output.tail_sol                               16715 non-null  float64\n",
      " 9   final.output.tail_au                                16794 non-null  float64\n",
      " 10  primary_cleaner.input.sulfate                       15553 non-null  float64\n",
      " 11  primary_cleaner.input.depressant                    15598 non-null  float64\n",
      " 12  primary_cleaner.input.feed_size                     16860 non-null  float64\n",
      " 13  primary_cleaner.input.xanthate                      15875 non-null  float64\n",
      " 14  primary_cleaner.output.concentrate_ag               16778 non-null  float64\n",
      " 15  primary_cleaner.output.concentrate_pb               16502 non-null  float64\n",
      " 16  primary_cleaner.output.concentrate_sol              16224 non-null  float64\n",
      " 17  primary_cleaner.output.concentrate_au               16778 non-null  float64\n",
      " 18  primary_cleaner.output.tail_ag                      16777 non-null  float64\n",
      " 19  primary_cleaner.output.tail_pb                      16761 non-null  float64\n",
      " 20  primary_cleaner.output.tail_sol                     16579 non-null  float64\n",
      " 21  primary_cleaner.output.tail_au                      16777 non-null  float64\n",
      " 22  primary_cleaner.state.floatbank8_a_air              16820 non-null  float64\n",
      " 23  primary_cleaner.state.floatbank8_a_level            16827 non-null  float64\n",
      " 24  primary_cleaner.state.floatbank8_b_air              16820 non-null  float64\n",
      " 25  primary_cleaner.state.floatbank8_b_level            16833 non-null  float64\n",
      " 26  primary_cleaner.state.floatbank8_c_air              16822 non-null  float64\n",
      " 27  primary_cleaner.state.floatbank8_c_level            16833 non-null  float64\n",
      " 28  primary_cleaner.state.floatbank8_d_air              16821 non-null  float64\n",
      " 29  primary_cleaner.state.floatbank8_d_level            16833 non-null  float64\n",
      " 30  rougher.calculation.sulfate_to_au_concentrate       16833 non-null  float64\n",
      " 31  rougher.calculation.floatbank10_sulfate_to_au_feed  16833 non-null  float64\n",
      " 32  rougher.calculation.floatbank11_sulfate_to_au_feed  16833 non-null  float64\n",
      " 33  rougher.calculation.au_pb_ratio                     15618 non-null  float64\n",
      " 34  rougher.input.feed_ag                               16778 non-null  float64\n",
      " 35  rougher.input.feed_pb                               16632 non-null  float64\n",
      " 36  rougher.input.feed_rate                             16347 non-null  float64\n",
      " 37  rougher.input.feed_size                             16443 non-null  float64\n",
      " 38  rougher.input.feed_sol                              16568 non-null  float64\n",
      " 39  rougher.input.feed_au                               16777 non-null  float64\n",
      " 40  rougher.input.floatbank10_sulfate                   15816 non-null  float64\n",
      " 41  rougher.input.floatbank10_xanthate                  16514 non-null  float64\n",
      " 42  rougher.input.floatbank11_sulfate                   16237 non-null  float64\n",
      " 43  rougher.input.floatbank11_xanthate                  14956 non-null  float64\n",
      " 44  rougher.output.concentrate_ag                       16778 non-null  float64\n",
      " 45  rougher.output.concentrate_pb                       16778 non-null  float64\n",
      " 46  rougher.output.concentrate_sol                      16698 non-null  float64\n",
      " 47  rougher.output.concentrate_au                       16778 non-null  float64\n",
      " 48  rougher.output.recovery                             14287 non-null  float64\n",
      " 49  rougher.output.tail_ag                              14610 non-null  float64\n",
      " 50  rougher.output.tail_pb                              16778 non-null  float64\n",
      " 51  rougher.output.tail_sol                             14611 non-null  float64\n",
      " 52  rougher.output.tail_au                              14611 non-null  float64\n",
      " 53  rougher.state.floatbank10_a_air                     16807 non-null  float64\n",
      " 54  rougher.state.floatbank10_a_level                   16807 non-null  float64\n",
      " 55  rougher.state.floatbank10_b_air                     16807 non-null  float64\n",
      " 56  rougher.state.floatbank10_b_level                   16807 non-null  float64\n",
      " 57  rougher.state.floatbank10_c_air                     16807 non-null  float64\n",
      " 58  rougher.state.floatbank10_c_level                   16814 non-null  float64\n",
      " 59  rougher.state.floatbank10_d_air                     16802 non-null  float64\n",
      " 60  rougher.state.floatbank10_d_level                   16809 non-null  float64\n",
      " 61  rougher.state.floatbank10_e_air                     16257 non-null  float64\n",
      " 62  rougher.state.floatbank10_e_level                   16809 non-null  float64\n",
      " 63  rougher.state.floatbank10_f_air                     16802 non-null  float64\n",
      " 64  rougher.state.floatbank10_f_level                   16802 non-null  float64\n",
      " 65  secondary_cleaner.output.tail_ag                    16776 non-null  float64\n",
      " 66  secondary_cleaner.output.tail_pb                    16764 non-null  float64\n",
      " 67  secondary_cleaner.output.tail_sol                   14874 non-null  float64\n",
      " 68  secondary_cleaner.output.tail_au                    16778 non-null  float64\n",
      " 69  secondary_cleaner.state.floatbank2_a_air            16497 non-null  float64\n",
      " 70  secondary_cleaner.state.floatbank2_a_level          16751 non-null  float64\n",
      " 71  secondary_cleaner.state.floatbank2_b_air            16705 non-null  float64\n",
      " 72  secondary_cleaner.state.floatbank2_b_level          16748 non-null  float64\n",
      " 73  secondary_cleaner.state.floatbank3_a_air            16763 non-null  float64\n",
      " 74  secondary_cleaner.state.floatbank3_a_level          16747 non-null  float64\n",
      " 75  secondary_cleaner.state.floatbank3_b_air            16752 non-null  float64\n",
      " 76  secondary_cleaner.state.floatbank3_b_level          16750 non-null  float64\n",
      " 77  secondary_cleaner.state.floatbank4_a_air            16731 non-null  float64\n",
      " 78  secondary_cleaner.state.floatbank4_a_level          16747 non-null  float64\n",
      " 79  secondary_cleaner.state.floatbank4_b_air            16768 non-null  float64\n",
      " 80  secondary_cleaner.state.floatbank4_b_level          16767 non-null  float64\n",
      " 81  secondary_cleaner.state.floatbank5_a_air            16775 non-null  float64\n",
      " 82  secondary_cleaner.state.floatbank5_a_level          16775 non-null  float64\n",
      " 83  secondary_cleaner.state.floatbank5_b_air            16775 non-null  float64\n",
      " 84  secondary_cleaner.state.floatbank5_b_level          16776 non-null  float64\n",
      " 85  secondary_cleaner.state.floatbank6_a_air            16757 non-null  float64\n",
      " 86  secondary_cleaner.state.floatbank6_a_level          16775 non-null  float64\n",
      "dtypes: float64(86), object(1)\n",
      "memory usage: 11.2+ MB\n"
     ]
    }
   ],
   "source": [
    "#Se examina la información del dataset, para conocer la información que se tiene, y de que manera se encuentra la información\n",
    "#para saber como trabajarla\n",
    "\n",
    "df_train.info()"
   ]
  },
  {
   "cell_type": "code",
   "execution_count": 4,
   "metadata": {},
   "outputs": [
    {
     "data": {
      "text/html": [
       "<div>\n",
       "<style scoped>\n",
       "    .dataframe tbody tr th:only-of-type {\n",
       "        vertical-align: middle;\n",
       "    }\n",
       "\n",
       "    .dataframe tbody tr th {\n",
       "        vertical-align: top;\n",
       "    }\n",
       "\n",
       "    .dataframe thead th {\n",
       "        text-align: right;\n",
       "    }\n",
       "</style>\n",
       "<table border=\"1\" class=\"dataframe\">\n",
       "  <thead>\n",
       "    <tr style=\"text-align: right;\">\n",
       "      <th></th>\n",
       "      <th>date</th>\n",
       "      <th>final.output.concentrate_ag</th>\n",
       "      <th>final.output.concentrate_pb</th>\n",
       "      <th>final.output.concentrate_sol</th>\n",
       "      <th>final.output.concentrate_au</th>\n",
       "      <th>final.output.recovery</th>\n",
       "      <th>final.output.tail_ag</th>\n",
       "      <th>final.output.tail_pb</th>\n",
       "      <th>final.output.tail_sol</th>\n",
       "      <th>final.output.tail_au</th>\n",
       "      <th>...</th>\n",
       "      <th>secondary_cleaner.state.floatbank4_a_air</th>\n",
       "      <th>secondary_cleaner.state.floatbank4_a_level</th>\n",
       "      <th>secondary_cleaner.state.floatbank4_b_air</th>\n",
       "      <th>secondary_cleaner.state.floatbank4_b_level</th>\n",
       "      <th>secondary_cleaner.state.floatbank5_a_air</th>\n",
       "      <th>secondary_cleaner.state.floatbank5_a_level</th>\n",
       "      <th>secondary_cleaner.state.floatbank5_b_air</th>\n",
       "      <th>secondary_cleaner.state.floatbank5_b_level</th>\n",
       "      <th>secondary_cleaner.state.floatbank6_a_air</th>\n",
       "      <th>secondary_cleaner.state.floatbank6_a_level</th>\n",
       "    </tr>\n",
       "  </thead>\n",
       "  <tbody>\n",
       "    <tr>\n",
       "      <th>0</th>\n",
       "      <td>2016-01-15 00:00:00</td>\n",
       "      <td>6.055403</td>\n",
       "      <td>9.889648</td>\n",
       "      <td>5.507324</td>\n",
       "      <td>42.192020</td>\n",
       "      <td>70.541216</td>\n",
       "      <td>10.411962</td>\n",
       "      <td>0.895447</td>\n",
       "      <td>16.904297</td>\n",
       "      <td>2.143149</td>\n",
       "      <td>...</td>\n",
       "      <td>14.016835</td>\n",
       "      <td>-502.488007</td>\n",
       "      <td>12.099931</td>\n",
       "      <td>-504.715942</td>\n",
       "      <td>9.925633</td>\n",
       "      <td>-498.310211</td>\n",
       "      <td>8.079666</td>\n",
       "      <td>-500.470978</td>\n",
       "      <td>14.151341</td>\n",
       "      <td>-605.841980</td>\n",
       "    </tr>\n",
       "    <tr>\n",
       "      <th>1</th>\n",
       "      <td>2016-01-15 01:00:00</td>\n",
       "      <td>6.029369</td>\n",
       "      <td>9.968944</td>\n",
       "      <td>5.257781</td>\n",
       "      <td>42.701629</td>\n",
       "      <td>69.266198</td>\n",
       "      <td>10.462676</td>\n",
       "      <td>0.927452</td>\n",
       "      <td>16.634514</td>\n",
       "      <td>2.224930</td>\n",
       "      <td>...</td>\n",
       "      <td>13.992281</td>\n",
       "      <td>-505.503262</td>\n",
       "      <td>11.950531</td>\n",
       "      <td>-501.331529</td>\n",
       "      <td>10.039245</td>\n",
       "      <td>-500.169983</td>\n",
       "      <td>7.984757</td>\n",
       "      <td>-500.582168</td>\n",
       "      <td>13.998353</td>\n",
       "      <td>-599.787184</td>\n",
       "    </tr>\n",
       "    <tr>\n",
       "      <th>2</th>\n",
       "      <td>2016-01-15 02:00:00</td>\n",
       "      <td>6.055926</td>\n",
       "      <td>10.213995</td>\n",
       "      <td>5.383759</td>\n",
       "      <td>42.657501</td>\n",
       "      <td>68.116445</td>\n",
       "      <td>10.507046</td>\n",
       "      <td>0.953716</td>\n",
       "      <td>16.208849</td>\n",
       "      <td>2.257889</td>\n",
       "      <td>...</td>\n",
       "      <td>14.015015</td>\n",
       "      <td>-502.520901</td>\n",
       "      <td>11.912783</td>\n",
       "      <td>-501.133383</td>\n",
       "      <td>10.070913</td>\n",
       "      <td>-500.129135</td>\n",
       "      <td>8.013877</td>\n",
       "      <td>-500.517572</td>\n",
       "      <td>14.028663</td>\n",
       "      <td>-601.427363</td>\n",
       "    </tr>\n",
       "    <tr>\n",
       "      <th>3</th>\n",
       "      <td>2016-01-15 03:00:00</td>\n",
       "      <td>6.047977</td>\n",
       "      <td>9.977019</td>\n",
       "      <td>4.858634</td>\n",
       "      <td>42.689819</td>\n",
       "      <td>68.347543</td>\n",
       "      <td>10.422762</td>\n",
       "      <td>0.883763</td>\n",
       "      <td>16.532835</td>\n",
       "      <td>2.146849</td>\n",
       "      <td>...</td>\n",
       "      <td>14.036510</td>\n",
       "      <td>-500.857308</td>\n",
       "      <td>11.999550</td>\n",
       "      <td>-501.193686</td>\n",
       "      <td>9.970366</td>\n",
       "      <td>-499.201640</td>\n",
       "      <td>7.977324</td>\n",
       "      <td>-500.255908</td>\n",
       "      <td>14.005551</td>\n",
       "      <td>-599.996129</td>\n",
       "    </tr>\n",
       "    <tr>\n",
       "      <th>4</th>\n",
       "      <td>2016-01-15 04:00:00</td>\n",
       "      <td>6.148599</td>\n",
       "      <td>10.142511</td>\n",
       "      <td>4.939416</td>\n",
       "      <td>42.774141</td>\n",
       "      <td>66.927016</td>\n",
       "      <td>10.360302</td>\n",
       "      <td>0.792826</td>\n",
       "      <td>16.525686</td>\n",
       "      <td>2.055292</td>\n",
       "      <td>...</td>\n",
       "      <td>14.027298</td>\n",
       "      <td>-499.838632</td>\n",
       "      <td>11.953070</td>\n",
       "      <td>-501.053894</td>\n",
       "      <td>9.925709</td>\n",
       "      <td>-501.686727</td>\n",
       "      <td>7.894242</td>\n",
       "      <td>-500.356035</td>\n",
       "      <td>13.996647</td>\n",
       "      <td>-601.496691</td>\n",
       "    </tr>\n",
       "  </tbody>\n",
       "</table>\n",
       "<p>5 rows × 87 columns</p>\n",
       "</div>"
      ],
      "text/plain": [
       "                  date  final.output.concentrate_ag  \\\n",
       "0  2016-01-15 00:00:00                     6.055403   \n",
       "1  2016-01-15 01:00:00                     6.029369   \n",
       "2  2016-01-15 02:00:00                     6.055926   \n",
       "3  2016-01-15 03:00:00                     6.047977   \n",
       "4  2016-01-15 04:00:00                     6.148599   \n",
       "\n",
       "   final.output.concentrate_pb  final.output.concentrate_sol  \\\n",
       "0                     9.889648                      5.507324   \n",
       "1                     9.968944                      5.257781   \n",
       "2                    10.213995                      5.383759   \n",
       "3                     9.977019                      4.858634   \n",
       "4                    10.142511                      4.939416   \n",
       "\n",
       "   final.output.concentrate_au  final.output.recovery  final.output.tail_ag  \\\n",
       "0                    42.192020              70.541216             10.411962   \n",
       "1                    42.701629              69.266198             10.462676   \n",
       "2                    42.657501              68.116445             10.507046   \n",
       "3                    42.689819              68.347543             10.422762   \n",
       "4                    42.774141              66.927016             10.360302   \n",
       "\n",
       "   final.output.tail_pb  final.output.tail_sol  final.output.tail_au  ...  \\\n",
       "0              0.895447              16.904297              2.143149  ...   \n",
       "1              0.927452              16.634514              2.224930  ...   \n",
       "2              0.953716              16.208849              2.257889  ...   \n",
       "3              0.883763              16.532835              2.146849  ...   \n",
       "4              0.792826              16.525686              2.055292  ...   \n",
       "\n",
       "   secondary_cleaner.state.floatbank4_a_air  \\\n",
       "0                                 14.016835   \n",
       "1                                 13.992281   \n",
       "2                                 14.015015   \n",
       "3                                 14.036510   \n",
       "4                                 14.027298   \n",
       "\n",
       "   secondary_cleaner.state.floatbank4_a_level  \\\n",
       "0                                 -502.488007   \n",
       "1                                 -505.503262   \n",
       "2                                 -502.520901   \n",
       "3                                 -500.857308   \n",
       "4                                 -499.838632   \n",
       "\n",
       "   secondary_cleaner.state.floatbank4_b_air  \\\n",
       "0                                 12.099931   \n",
       "1                                 11.950531   \n",
       "2                                 11.912783   \n",
       "3                                 11.999550   \n",
       "4                                 11.953070   \n",
       "\n",
       "   secondary_cleaner.state.floatbank4_b_level  \\\n",
       "0                                 -504.715942   \n",
       "1                                 -501.331529   \n",
       "2                                 -501.133383   \n",
       "3                                 -501.193686   \n",
       "4                                 -501.053894   \n",
       "\n",
       "   secondary_cleaner.state.floatbank5_a_air  \\\n",
       "0                                  9.925633   \n",
       "1                                 10.039245   \n",
       "2                                 10.070913   \n",
       "3                                  9.970366   \n",
       "4                                  9.925709   \n",
       "\n",
       "   secondary_cleaner.state.floatbank5_a_level  \\\n",
       "0                                 -498.310211   \n",
       "1                                 -500.169983   \n",
       "2                                 -500.129135   \n",
       "3                                 -499.201640   \n",
       "4                                 -501.686727   \n",
       "\n",
       "   secondary_cleaner.state.floatbank5_b_air  \\\n",
       "0                                  8.079666   \n",
       "1                                  7.984757   \n",
       "2                                  8.013877   \n",
       "3                                  7.977324   \n",
       "4                                  7.894242   \n",
       "\n",
       "   secondary_cleaner.state.floatbank5_b_level  \\\n",
       "0                                 -500.470978   \n",
       "1                                 -500.582168   \n",
       "2                                 -500.517572   \n",
       "3                                 -500.255908   \n",
       "4                                 -500.356035   \n",
       "\n",
       "   secondary_cleaner.state.floatbank6_a_air  \\\n",
       "0                                 14.151341   \n",
       "1                                 13.998353   \n",
       "2                                 14.028663   \n",
       "3                                 14.005551   \n",
       "4                                 13.996647   \n",
       "\n",
       "   secondary_cleaner.state.floatbank6_a_level  \n",
       "0                                 -605.841980  \n",
       "1                                 -599.787184  \n",
       "2                                 -601.427363  \n",
       "3                                 -599.996129  \n",
       "4                                 -601.496691  \n",
       "\n",
       "[5 rows x 87 columns]"
      ]
     },
     "execution_count": 4,
     "metadata": {},
     "output_type": "execute_result"
    }
   ],
   "source": [
    "df_train.head()"
   ]
  },
  {
   "cell_type": "code",
   "execution_count": 5,
   "metadata": {},
   "outputs": [
    {
     "name": "stdout",
     "output_type": "stream",
     "text": [
      "<class 'pandas.core.frame.DataFrame'>\n",
      "RangeIndex: 5856 entries, 0 to 5855\n",
      "Data columns (total 53 columns):\n",
      " #   Column                                      Non-Null Count  Dtype  \n",
      "---  ------                                      --------------  -----  \n",
      " 0   date                                        5856 non-null   object \n",
      " 1   primary_cleaner.input.sulfate               5554 non-null   float64\n",
      " 2   primary_cleaner.input.depressant            5572 non-null   float64\n",
      " 3   primary_cleaner.input.feed_size             5856 non-null   float64\n",
      " 4   primary_cleaner.input.xanthate              5690 non-null   float64\n",
      " 5   primary_cleaner.state.floatbank8_a_air      5840 non-null   float64\n",
      " 6   primary_cleaner.state.floatbank8_a_level    5840 non-null   float64\n",
      " 7   primary_cleaner.state.floatbank8_b_air      5840 non-null   float64\n",
      " 8   primary_cleaner.state.floatbank8_b_level    5840 non-null   float64\n",
      " 9   primary_cleaner.state.floatbank8_c_air      5840 non-null   float64\n",
      " 10  primary_cleaner.state.floatbank8_c_level    5840 non-null   float64\n",
      " 11  primary_cleaner.state.floatbank8_d_air      5840 non-null   float64\n",
      " 12  primary_cleaner.state.floatbank8_d_level    5840 non-null   float64\n",
      " 13  rougher.input.feed_ag                       5840 non-null   float64\n",
      " 14  rougher.input.feed_pb                       5840 non-null   float64\n",
      " 15  rougher.input.feed_rate                     5816 non-null   float64\n",
      " 16  rougher.input.feed_size                     5834 non-null   float64\n",
      " 17  rougher.input.feed_sol                      5789 non-null   float64\n",
      " 18  rougher.input.feed_au                       5840 non-null   float64\n",
      " 19  rougher.input.floatbank10_sulfate           5599 non-null   float64\n",
      " 20  rougher.input.floatbank10_xanthate          5733 non-null   float64\n",
      " 21  rougher.input.floatbank11_sulfate           5801 non-null   float64\n",
      " 22  rougher.input.floatbank11_xanthate          5503 non-null   float64\n",
      " 23  rougher.state.floatbank10_a_air             5839 non-null   float64\n",
      " 24  rougher.state.floatbank10_a_level           5840 non-null   float64\n",
      " 25  rougher.state.floatbank10_b_air             5839 non-null   float64\n",
      " 26  rougher.state.floatbank10_b_level           5840 non-null   float64\n",
      " 27  rougher.state.floatbank10_c_air             5839 non-null   float64\n",
      " 28  rougher.state.floatbank10_c_level           5840 non-null   float64\n",
      " 29  rougher.state.floatbank10_d_air             5839 non-null   float64\n",
      " 30  rougher.state.floatbank10_d_level           5840 non-null   float64\n",
      " 31  rougher.state.floatbank10_e_air             5839 non-null   float64\n",
      " 32  rougher.state.floatbank10_e_level           5840 non-null   float64\n",
      " 33  rougher.state.floatbank10_f_air             5839 non-null   float64\n",
      " 34  rougher.state.floatbank10_f_level           5840 non-null   float64\n",
      " 35  secondary_cleaner.state.floatbank2_a_air    5836 non-null   float64\n",
      " 36  secondary_cleaner.state.floatbank2_a_level  5840 non-null   float64\n",
      " 37  secondary_cleaner.state.floatbank2_b_air    5833 non-null   float64\n",
      " 38  secondary_cleaner.state.floatbank2_b_level  5840 non-null   float64\n",
      " 39  secondary_cleaner.state.floatbank3_a_air    5822 non-null   float64\n",
      " 40  secondary_cleaner.state.floatbank3_a_level  5840 non-null   float64\n",
      " 41  secondary_cleaner.state.floatbank3_b_air    5840 non-null   float64\n",
      " 42  secondary_cleaner.state.floatbank3_b_level  5840 non-null   float64\n",
      " 43  secondary_cleaner.state.floatbank4_a_air    5840 non-null   float64\n",
      " 44  secondary_cleaner.state.floatbank4_a_level  5840 non-null   float64\n",
      " 45  secondary_cleaner.state.floatbank4_b_air    5840 non-null   float64\n",
      " 46  secondary_cleaner.state.floatbank4_b_level  5840 non-null   float64\n",
      " 47  secondary_cleaner.state.floatbank5_a_air    5840 non-null   float64\n",
      " 48  secondary_cleaner.state.floatbank5_a_level  5840 non-null   float64\n",
      " 49  secondary_cleaner.state.floatbank5_b_air    5840 non-null   float64\n",
      " 50  secondary_cleaner.state.floatbank5_b_level  5840 non-null   float64\n",
      " 51  secondary_cleaner.state.floatbank6_a_air    5840 non-null   float64\n",
      " 52  secondary_cleaner.state.floatbank6_a_level  5840 non-null   float64\n",
      "dtypes: float64(52), object(1)\n",
      "memory usage: 2.4+ MB\n"
     ]
    }
   ],
   "source": [
    "#Se examina la información del dataset, para conocer la información que se tiene, y de que manera se encuentra la información\n",
    "#para saber como trabajarla\n",
    "\n",
    "df_test.info()"
   ]
  },
  {
   "cell_type": "code",
   "execution_count": 6,
   "metadata": {},
   "outputs": [
    {
     "data": {
      "text/html": [
       "<div>\n",
       "<style scoped>\n",
       "    .dataframe tbody tr th:only-of-type {\n",
       "        vertical-align: middle;\n",
       "    }\n",
       "\n",
       "    .dataframe tbody tr th {\n",
       "        vertical-align: top;\n",
       "    }\n",
       "\n",
       "    .dataframe thead th {\n",
       "        text-align: right;\n",
       "    }\n",
       "</style>\n",
       "<table border=\"1\" class=\"dataframe\">\n",
       "  <thead>\n",
       "    <tr style=\"text-align: right;\">\n",
       "      <th></th>\n",
       "      <th>date</th>\n",
       "      <th>primary_cleaner.input.sulfate</th>\n",
       "      <th>primary_cleaner.input.depressant</th>\n",
       "      <th>primary_cleaner.input.feed_size</th>\n",
       "      <th>primary_cleaner.input.xanthate</th>\n",
       "      <th>primary_cleaner.state.floatbank8_a_air</th>\n",
       "      <th>primary_cleaner.state.floatbank8_a_level</th>\n",
       "      <th>primary_cleaner.state.floatbank8_b_air</th>\n",
       "      <th>primary_cleaner.state.floatbank8_b_level</th>\n",
       "      <th>primary_cleaner.state.floatbank8_c_air</th>\n",
       "      <th>...</th>\n",
       "      <th>secondary_cleaner.state.floatbank4_a_air</th>\n",
       "      <th>secondary_cleaner.state.floatbank4_a_level</th>\n",
       "      <th>secondary_cleaner.state.floatbank4_b_air</th>\n",
       "      <th>secondary_cleaner.state.floatbank4_b_level</th>\n",
       "      <th>secondary_cleaner.state.floatbank5_a_air</th>\n",
       "      <th>secondary_cleaner.state.floatbank5_a_level</th>\n",
       "      <th>secondary_cleaner.state.floatbank5_b_air</th>\n",
       "      <th>secondary_cleaner.state.floatbank5_b_level</th>\n",
       "      <th>secondary_cleaner.state.floatbank6_a_air</th>\n",
       "      <th>secondary_cleaner.state.floatbank6_a_level</th>\n",
       "    </tr>\n",
       "  </thead>\n",
       "  <tbody>\n",
       "    <tr>\n",
       "      <th>0</th>\n",
       "      <td>2016-09-01 00:59:59</td>\n",
       "      <td>210.800909</td>\n",
       "      <td>14.993118</td>\n",
       "      <td>8.080000</td>\n",
       "      <td>1.005021</td>\n",
       "      <td>1398.981301</td>\n",
       "      <td>-500.225577</td>\n",
       "      <td>1399.144926</td>\n",
       "      <td>-499.919735</td>\n",
       "      <td>1400.102998</td>\n",
       "      <td>...</td>\n",
       "      <td>12.023554</td>\n",
       "      <td>-497.795834</td>\n",
       "      <td>8.016656</td>\n",
       "      <td>-501.289139</td>\n",
       "      <td>7.946562</td>\n",
       "      <td>-432.317850</td>\n",
       "      <td>4.872511</td>\n",
       "      <td>-500.037437</td>\n",
       "      <td>26.705889</td>\n",
       "      <td>-499.709414</td>\n",
       "    </tr>\n",
       "    <tr>\n",
       "      <th>1</th>\n",
       "      <td>2016-09-01 01:59:59</td>\n",
       "      <td>215.392455</td>\n",
       "      <td>14.987471</td>\n",
       "      <td>8.080000</td>\n",
       "      <td>0.990469</td>\n",
       "      <td>1398.777912</td>\n",
       "      <td>-500.057435</td>\n",
       "      <td>1398.055362</td>\n",
       "      <td>-499.778182</td>\n",
       "      <td>1396.151033</td>\n",
       "      <td>...</td>\n",
       "      <td>12.058140</td>\n",
       "      <td>-498.695773</td>\n",
       "      <td>8.130979</td>\n",
       "      <td>-499.634209</td>\n",
       "      <td>7.958270</td>\n",
       "      <td>-525.839648</td>\n",
       "      <td>4.878850</td>\n",
       "      <td>-500.162375</td>\n",
       "      <td>25.019940</td>\n",
       "      <td>-499.819438</td>\n",
       "    </tr>\n",
       "    <tr>\n",
       "      <th>2</th>\n",
       "      <td>2016-09-01 02:59:59</td>\n",
       "      <td>215.259946</td>\n",
       "      <td>12.884934</td>\n",
       "      <td>7.786667</td>\n",
       "      <td>0.996043</td>\n",
       "      <td>1398.493666</td>\n",
       "      <td>-500.868360</td>\n",
       "      <td>1398.860436</td>\n",
       "      <td>-499.764529</td>\n",
       "      <td>1398.075709</td>\n",
       "      <td>...</td>\n",
       "      <td>11.962366</td>\n",
       "      <td>-498.767484</td>\n",
       "      <td>8.096893</td>\n",
       "      <td>-500.827423</td>\n",
       "      <td>8.071056</td>\n",
       "      <td>-500.801673</td>\n",
       "      <td>4.905125</td>\n",
       "      <td>-499.828510</td>\n",
       "      <td>24.994862</td>\n",
       "      <td>-500.622559</td>\n",
       "    </tr>\n",
       "    <tr>\n",
       "      <th>3</th>\n",
       "      <td>2016-09-01 03:59:59</td>\n",
       "      <td>215.336236</td>\n",
       "      <td>12.006805</td>\n",
       "      <td>7.640000</td>\n",
       "      <td>0.863514</td>\n",
       "      <td>1399.618111</td>\n",
       "      <td>-498.863574</td>\n",
       "      <td>1397.440120</td>\n",
       "      <td>-499.211024</td>\n",
       "      <td>1400.129303</td>\n",
       "      <td>...</td>\n",
       "      <td>12.033091</td>\n",
       "      <td>-498.350935</td>\n",
       "      <td>8.074946</td>\n",
       "      <td>-499.474407</td>\n",
       "      <td>7.897085</td>\n",
       "      <td>-500.868509</td>\n",
       "      <td>4.931400</td>\n",
       "      <td>-499.963623</td>\n",
       "      <td>24.948919</td>\n",
       "      <td>-498.709987</td>\n",
       "    </tr>\n",
       "    <tr>\n",
       "      <th>4</th>\n",
       "      <td>2016-09-01 04:59:59</td>\n",
       "      <td>199.099327</td>\n",
       "      <td>10.682530</td>\n",
       "      <td>7.530000</td>\n",
       "      <td>0.805575</td>\n",
       "      <td>1401.268123</td>\n",
       "      <td>-500.808305</td>\n",
       "      <td>1398.128818</td>\n",
       "      <td>-499.504543</td>\n",
       "      <td>1402.172226</td>\n",
       "      <td>...</td>\n",
       "      <td>12.025367</td>\n",
       "      <td>-500.786497</td>\n",
       "      <td>8.054678</td>\n",
       "      <td>-500.397500</td>\n",
       "      <td>8.107890</td>\n",
       "      <td>-509.526725</td>\n",
       "      <td>4.957674</td>\n",
       "      <td>-500.360026</td>\n",
       "      <td>25.003331</td>\n",
       "      <td>-500.856333</td>\n",
       "    </tr>\n",
       "  </tbody>\n",
       "</table>\n",
       "<p>5 rows × 53 columns</p>\n",
       "</div>"
      ],
      "text/plain": [
       "                  date  primary_cleaner.input.sulfate  \\\n",
       "0  2016-09-01 00:59:59                     210.800909   \n",
       "1  2016-09-01 01:59:59                     215.392455   \n",
       "2  2016-09-01 02:59:59                     215.259946   \n",
       "3  2016-09-01 03:59:59                     215.336236   \n",
       "4  2016-09-01 04:59:59                     199.099327   \n",
       "\n",
       "   primary_cleaner.input.depressant  primary_cleaner.input.feed_size  \\\n",
       "0                         14.993118                         8.080000   \n",
       "1                         14.987471                         8.080000   \n",
       "2                         12.884934                         7.786667   \n",
       "3                         12.006805                         7.640000   \n",
       "4                         10.682530                         7.530000   \n",
       "\n",
       "   primary_cleaner.input.xanthate  primary_cleaner.state.floatbank8_a_air  \\\n",
       "0                        1.005021                             1398.981301   \n",
       "1                        0.990469                             1398.777912   \n",
       "2                        0.996043                             1398.493666   \n",
       "3                        0.863514                             1399.618111   \n",
       "4                        0.805575                             1401.268123   \n",
       "\n",
       "   primary_cleaner.state.floatbank8_a_level  \\\n",
       "0                               -500.225577   \n",
       "1                               -500.057435   \n",
       "2                               -500.868360   \n",
       "3                               -498.863574   \n",
       "4                               -500.808305   \n",
       "\n",
       "   primary_cleaner.state.floatbank8_b_air  \\\n",
       "0                             1399.144926   \n",
       "1                             1398.055362   \n",
       "2                             1398.860436   \n",
       "3                             1397.440120   \n",
       "4                             1398.128818   \n",
       "\n",
       "   primary_cleaner.state.floatbank8_b_level  \\\n",
       "0                               -499.919735   \n",
       "1                               -499.778182   \n",
       "2                               -499.764529   \n",
       "3                               -499.211024   \n",
       "4                               -499.504543   \n",
       "\n",
       "   primary_cleaner.state.floatbank8_c_air  ...  \\\n",
       "0                             1400.102998  ...   \n",
       "1                             1396.151033  ...   \n",
       "2                             1398.075709  ...   \n",
       "3                             1400.129303  ...   \n",
       "4                             1402.172226  ...   \n",
       "\n",
       "   secondary_cleaner.state.floatbank4_a_air  \\\n",
       "0                                 12.023554   \n",
       "1                                 12.058140   \n",
       "2                                 11.962366   \n",
       "3                                 12.033091   \n",
       "4                                 12.025367   \n",
       "\n",
       "   secondary_cleaner.state.floatbank4_a_level  \\\n",
       "0                                 -497.795834   \n",
       "1                                 -498.695773   \n",
       "2                                 -498.767484   \n",
       "3                                 -498.350935   \n",
       "4                                 -500.786497   \n",
       "\n",
       "   secondary_cleaner.state.floatbank4_b_air  \\\n",
       "0                                  8.016656   \n",
       "1                                  8.130979   \n",
       "2                                  8.096893   \n",
       "3                                  8.074946   \n",
       "4                                  8.054678   \n",
       "\n",
       "   secondary_cleaner.state.floatbank4_b_level  \\\n",
       "0                                 -501.289139   \n",
       "1                                 -499.634209   \n",
       "2                                 -500.827423   \n",
       "3                                 -499.474407   \n",
       "4                                 -500.397500   \n",
       "\n",
       "   secondary_cleaner.state.floatbank5_a_air  \\\n",
       "0                                  7.946562   \n",
       "1                                  7.958270   \n",
       "2                                  8.071056   \n",
       "3                                  7.897085   \n",
       "4                                  8.107890   \n",
       "\n",
       "   secondary_cleaner.state.floatbank5_a_level  \\\n",
       "0                                 -432.317850   \n",
       "1                                 -525.839648   \n",
       "2                                 -500.801673   \n",
       "3                                 -500.868509   \n",
       "4                                 -509.526725   \n",
       "\n",
       "   secondary_cleaner.state.floatbank5_b_air  \\\n",
       "0                                  4.872511   \n",
       "1                                  4.878850   \n",
       "2                                  4.905125   \n",
       "3                                  4.931400   \n",
       "4                                  4.957674   \n",
       "\n",
       "   secondary_cleaner.state.floatbank5_b_level  \\\n",
       "0                                 -500.037437   \n",
       "1                                 -500.162375   \n",
       "2                                 -499.828510   \n",
       "3                                 -499.963623   \n",
       "4                                 -500.360026   \n",
       "\n",
       "   secondary_cleaner.state.floatbank6_a_air  \\\n",
       "0                                 26.705889   \n",
       "1                                 25.019940   \n",
       "2                                 24.994862   \n",
       "3                                 24.948919   \n",
       "4                                 25.003331   \n",
       "\n",
       "   secondary_cleaner.state.floatbank6_a_level  \n",
       "0                                 -499.709414  \n",
       "1                                 -499.819438  \n",
       "2                                 -500.622559  \n",
       "3                                 -498.709987  \n",
       "4                                 -500.856333  \n",
       "\n",
       "[5 rows x 53 columns]"
      ]
     },
     "execution_count": 6,
     "metadata": {},
     "output_type": "execute_result"
    }
   ],
   "source": [
    "df_test.head()"
   ]
  },
  {
   "cell_type": "code",
   "execution_count": 7,
   "metadata": {},
   "outputs": [
    {
     "name": "stdout",
     "output_type": "stream",
     "text": [
      "<class 'pandas.core.frame.DataFrame'>\n",
      "RangeIndex: 22716 entries, 0 to 22715\n",
      "Data columns (total 87 columns):\n",
      " #   Column                                              Non-Null Count  Dtype  \n",
      "---  ------                                              --------------  -----  \n",
      " 0   date                                                22716 non-null  object \n",
      " 1   final.output.concentrate_ag                         22627 non-null  float64\n",
      " 2   final.output.concentrate_pb                         22629 non-null  float64\n",
      " 3   final.output.concentrate_sol                        22331 non-null  float64\n",
      " 4   final.output.concentrate_au                         22630 non-null  float64\n",
      " 5   final.output.recovery                               20753 non-null  float64\n",
      " 6   final.output.tail_ag                                22633 non-null  float64\n",
      " 7   final.output.tail_pb                                22516 non-null  float64\n",
      " 8   final.output.tail_sol                               22445 non-null  float64\n",
      " 9   final.output.tail_au                                22635 non-null  float64\n",
      " 10  primary_cleaner.input.sulfate                       21107 non-null  float64\n",
      " 11  primary_cleaner.input.depressant                    21170 non-null  float64\n",
      " 12  primary_cleaner.input.feed_size                     22716 non-null  float64\n",
      " 13  primary_cleaner.input.xanthate                      21565 non-null  float64\n",
      " 14  primary_cleaner.output.concentrate_ag               22618 non-null  float64\n",
      " 15  primary_cleaner.output.concentrate_pb               22268 non-null  float64\n",
      " 16  primary_cleaner.output.concentrate_sol              21918 non-null  float64\n",
      " 17  primary_cleaner.output.concentrate_au               22618 non-null  float64\n",
      " 18  primary_cleaner.output.tail_ag                      22614 non-null  float64\n",
      " 19  primary_cleaner.output.tail_pb                      22594 non-null  float64\n",
      " 20  primary_cleaner.output.tail_sol                     22365 non-null  float64\n",
      " 21  primary_cleaner.output.tail_au                      22617 non-null  float64\n",
      " 22  primary_cleaner.state.floatbank8_a_air              22660 non-null  float64\n",
      " 23  primary_cleaner.state.floatbank8_a_level            22667 non-null  float64\n",
      " 24  primary_cleaner.state.floatbank8_b_air              22660 non-null  float64\n",
      " 25  primary_cleaner.state.floatbank8_b_level            22673 non-null  float64\n",
      " 26  primary_cleaner.state.floatbank8_c_air              22662 non-null  float64\n",
      " 27  primary_cleaner.state.floatbank8_c_level            22673 non-null  float64\n",
      " 28  primary_cleaner.state.floatbank8_d_air              22661 non-null  float64\n",
      " 29  primary_cleaner.state.floatbank8_d_level            22673 non-null  float64\n",
      " 30  rougher.calculation.sulfate_to_au_concentrate       22672 non-null  float64\n",
      " 31  rougher.calculation.floatbank10_sulfate_to_au_feed  22672 non-null  float64\n",
      " 32  rougher.calculation.floatbank11_sulfate_to_au_feed  22672 non-null  float64\n",
      " 33  rougher.calculation.au_pb_ratio                     21089 non-null  float64\n",
      " 34  rougher.input.feed_ag                               22618 non-null  float64\n",
      " 35  rougher.input.feed_pb                               22472 non-null  float64\n",
      " 36  rougher.input.feed_rate                             22163 non-null  float64\n",
      " 37  rougher.input.feed_size                             22277 non-null  float64\n",
      " 38  rougher.input.feed_sol                              22357 non-null  float64\n",
      " 39  rougher.input.feed_au                               22617 non-null  float64\n",
      " 40  rougher.input.floatbank10_sulfate                   21415 non-null  float64\n",
      " 41  rougher.input.floatbank10_xanthate                  22247 non-null  float64\n",
      " 42  rougher.input.floatbank11_sulfate                   22038 non-null  float64\n",
      " 43  rougher.input.floatbank11_xanthate                  20459 non-null  float64\n",
      " 44  rougher.output.concentrate_ag                       22618 non-null  float64\n",
      " 45  rougher.output.concentrate_pb                       22618 non-null  float64\n",
      " 46  rougher.output.concentrate_sol                      22526 non-null  float64\n",
      " 47  rougher.output.concentrate_au                       22618 non-null  float64\n",
      " 48  rougher.output.recovery                             19597 non-null  float64\n",
      " 49  rougher.output.tail_ag                              19979 non-null  float64\n",
      " 50  rougher.output.tail_pb                              22618 non-null  float64\n",
      " 51  rougher.output.tail_sol                             19980 non-null  float64\n",
      " 52  rougher.output.tail_au                              19980 non-null  float64\n",
      " 53  rougher.state.floatbank10_a_air                     22646 non-null  float64\n",
      " 54  rougher.state.floatbank10_a_level                   22647 non-null  float64\n",
      " 55  rougher.state.floatbank10_b_air                     22646 non-null  float64\n",
      " 56  rougher.state.floatbank10_b_level                   22647 non-null  float64\n",
      " 57  rougher.state.floatbank10_c_air                     22646 non-null  float64\n",
      " 58  rougher.state.floatbank10_c_level                   22654 non-null  float64\n",
      " 59  rougher.state.floatbank10_d_air                     22641 non-null  float64\n",
      " 60  rougher.state.floatbank10_d_level                   22649 non-null  float64\n",
      " 61  rougher.state.floatbank10_e_air                     22096 non-null  float64\n",
      " 62  rougher.state.floatbank10_e_level                   22649 non-null  float64\n",
      " 63  rougher.state.floatbank10_f_air                     22641 non-null  float64\n",
      " 64  rougher.state.floatbank10_f_level                   22642 non-null  float64\n",
      " 65  secondary_cleaner.output.tail_ag                    22616 non-null  float64\n",
      " 66  secondary_cleaner.output.tail_pb                    22600 non-null  float64\n",
      " 67  secondary_cleaner.output.tail_sol                   20501 non-null  float64\n",
      " 68  secondary_cleaner.output.tail_au                    22618 non-null  float64\n",
      " 69  secondary_cleaner.state.floatbank2_a_air            22333 non-null  float64\n",
      " 70  secondary_cleaner.state.floatbank2_a_level          22591 non-null  float64\n",
      " 71  secondary_cleaner.state.floatbank2_b_air            22538 non-null  float64\n",
      " 72  secondary_cleaner.state.floatbank2_b_level          22588 non-null  float64\n",
      " 73  secondary_cleaner.state.floatbank3_a_air            22585 non-null  float64\n",
      " 74  secondary_cleaner.state.floatbank3_a_level          22587 non-null  float64\n",
      " 75  secondary_cleaner.state.floatbank3_b_air            22592 non-null  float64\n",
      " 76  secondary_cleaner.state.floatbank3_b_level          22590 non-null  float64\n",
      " 77  secondary_cleaner.state.floatbank4_a_air            22571 non-null  float64\n",
      " 78  secondary_cleaner.state.floatbank4_a_level          22587 non-null  float64\n",
      " 79  secondary_cleaner.state.floatbank4_b_air            22608 non-null  float64\n",
      " 80  secondary_cleaner.state.floatbank4_b_level          22607 non-null  float64\n",
      " 81  secondary_cleaner.state.floatbank5_a_air            22615 non-null  float64\n",
      " 82  secondary_cleaner.state.floatbank5_a_level          22615 non-null  float64\n",
      " 83  secondary_cleaner.state.floatbank5_b_air            22615 non-null  float64\n",
      " 84  secondary_cleaner.state.floatbank5_b_level          22616 non-null  float64\n",
      " 85  secondary_cleaner.state.floatbank6_a_air            22597 non-null  float64\n",
      " 86  secondary_cleaner.state.floatbank6_a_level          22615 non-null  float64\n",
      "dtypes: float64(86), object(1)\n",
      "memory usage: 15.1+ MB\n"
     ]
    }
   ],
   "source": [
    "#Se examina la información del dataset, para conocer la información que se tiene, y de que manera se encuentra la información\n",
    "#para saber como trabajarla\n",
    "\n",
    "df_full.info()"
   ]
  },
  {
   "cell_type": "code",
   "execution_count": 8,
   "metadata": {},
   "outputs": [
    {
     "data": {
      "text/html": [
       "<div>\n",
       "<style scoped>\n",
       "    .dataframe tbody tr th:only-of-type {\n",
       "        vertical-align: middle;\n",
       "    }\n",
       "\n",
       "    .dataframe tbody tr th {\n",
       "        vertical-align: top;\n",
       "    }\n",
       "\n",
       "    .dataframe thead th {\n",
       "        text-align: right;\n",
       "    }\n",
       "</style>\n",
       "<table border=\"1\" class=\"dataframe\">\n",
       "  <thead>\n",
       "    <tr style=\"text-align: right;\">\n",
       "      <th></th>\n",
       "      <th>date</th>\n",
       "      <th>final.output.concentrate_ag</th>\n",
       "      <th>final.output.concentrate_pb</th>\n",
       "      <th>final.output.concentrate_sol</th>\n",
       "      <th>final.output.concentrate_au</th>\n",
       "      <th>final.output.recovery</th>\n",
       "      <th>final.output.tail_ag</th>\n",
       "      <th>final.output.tail_pb</th>\n",
       "      <th>final.output.tail_sol</th>\n",
       "      <th>final.output.tail_au</th>\n",
       "      <th>...</th>\n",
       "      <th>secondary_cleaner.state.floatbank4_a_air</th>\n",
       "      <th>secondary_cleaner.state.floatbank4_a_level</th>\n",
       "      <th>secondary_cleaner.state.floatbank4_b_air</th>\n",
       "      <th>secondary_cleaner.state.floatbank4_b_level</th>\n",
       "      <th>secondary_cleaner.state.floatbank5_a_air</th>\n",
       "      <th>secondary_cleaner.state.floatbank5_a_level</th>\n",
       "      <th>secondary_cleaner.state.floatbank5_b_air</th>\n",
       "      <th>secondary_cleaner.state.floatbank5_b_level</th>\n",
       "      <th>secondary_cleaner.state.floatbank6_a_air</th>\n",
       "      <th>secondary_cleaner.state.floatbank6_a_level</th>\n",
       "    </tr>\n",
       "  </thead>\n",
       "  <tbody>\n",
       "    <tr>\n",
       "      <th>0</th>\n",
       "      <td>2016-01-15 00:00:00</td>\n",
       "      <td>6.055403</td>\n",
       "      <td>9.889648</td>\n",
       "      <td>5.507324</td>\n",
       "      <td>42.192020</td>\n",
       "      <td>70.541216</td>\n",
       "      <td>10.411962</td>\n",
       "      <td>0.895447</td>\n",
       "      <td>16.904297</td>\n",
       "      <td>2.143149</td>\n",
       "      <td>...</td>\n",
       "      <td>14.016835</td>\n",
       "      <td>-502.488007</td>\n",
       "      <td>12.099931</td>\n",
       "      <td>-504.715942</td>\n",
       "      <td>9.925633</td>\n",
       "      <td>-498.310211</td>\n",
       "      <td>8.079666</td>\n",
       "      <td>-500.470978</td>\n",
       "      <td>14.151341</td>\n",
       "      <td>-605.841980</td>\n",
       "    </tr>\n",
       "    <tr>\n",
       "      <th>1</th>\n",
       "      <td>2016-01-15 01:00:00</td>\n",
       "      <td>6.029369</td>\n",
       "      <td>9.968944</td>\n",
       "      <td>5.257781</td>\n",
       "      <td>42.701629</td>\n",
       "      <td>69.266198</td>\n",
       "      <td>10.462676</td>\n",
       "      <td>0.927452</td>\n",
       "      <td>16.634514</td>\n",
       "      <td>2.224930</td>\n",
       "      <td>...</td>\n",
       "      <td>13.992281</td>\n",
       "      <td>-505.503262</td>\n",
       "      <td>11.950531</td>\n",
       "      <td>-501.331529</td>\n",
       "      <td>10.039245</td>\n",
       "      <td>-500.169983</td>\n",
       "      <td>7.984757</td>\n",
       "      <td>-500.582168</td>\n",
       "      <td>13.998353</td>\n",
       "      <td>-599.787184</td>\n",
       "    </tr>\n",
       "    <tr>\n",
       "      <th>2</th>\n",
       "      <td>2016-01-15 02:00:00</td>\n",
       "      <td>6.055926</td>\n",
       "      <td>10.213995</td>\n",
       "      <td>5.383759</td>\n",
       "      <td>42.657501</td>\n",
       "      <td>68.116445</td>\n",
       "      <td>10.507046</td>\n",
       "      <td>0.953716</td>\n",
       "      <td>16.208849</td>\n",
       "      <td>2.257889</td>\n",
       "      <td>...</td>\n",
       "      <td>14.015015</td>\n",
       "      <td>-502.520901</td>\n",
       "      <td>11.912783</td>\n",
       "      <td>-501.133383</td>\n",
       "      <td>10.070913</td>\n",
       "      <td>-500.129135</td>\n",
       "      <td>8.013877</td>\n",
       "      <td>-500.517572</td>\n",
       "      <td>14.028663</td>\n",
       "      <td>-601.427363</td>\n",
       "    </tr>\n",
       "    <tr>\n",
       "      <th>3</th>\n",
       "      <td>2016-01-15 03:00:00</td>\n",
       "      <td>6.047977</td>\n",
       "      <td>9.977019</td>\n",
       "      <td>4.858634</td>\n",
       "      <td>42.689819</td>\n",
       "      <td>68.347543</td>\n",
       "      <td>10.422762</td>\n",
       "      <td>0.883763</td>\n",
       "      <td>16.532835</td>\n",
       "      <td>2.146849</td>\n",
       "      <td>...</td>\n",
       "      <td>14.036510</td>\n",
       "      <td>-500.857308</td>\n",
       "      <td>11.999550</td>\n",
       "      <td>-501.193686</td>\n",
       "      <td>9.970366</td>\n",
       "      <td>-499.201640</td>\n",
       "      <td>7.977324</td>\n",
       "      <td>-500.255908</td>\n",
       "      <td>14.005551</td>\n",
       "      <td>-599.996129</td>\n",
       "    </tr>\n",
       "    <tr>\n",
       "      <th>4</th>\n",
       "      <td>2016-01-15 04:00:00</td>\n",
       "      <td>6.148599</td>\n",
       "      <td>10.142511</td>\n",
       "      <td>4.939416</td>\n",
       "      <td>42.774141</td>\n",
       "      <td>66.927016</td>\n",
       "      <td>10.360302</td>\n",
       "      <td>0.792826</td>\n",
       "      <td>16.525686</td>\n",
       "      <td>2.055292</td>\n",
       "      <td>...</td>\n",
       "      <td>14.027298</td>\n",
       "      <td>-499.838632</td>\n",
       "      <td>11.953070</td>\n",
       "      <td>-501.053894</td>\n",
       "      <td>9.925709</td>\n",
       "      <td>-501.686727</td>\n",
       "      <td>7.894242</td>\n",
       "      <td>-500.356035</td>\n",
       "      <td>13.996647</td>\n",
       "      <td>-601.496691</td>\n",
       "    </tr>\n",
       "  </tbody>\n",
       "</table>\n",
       "<p>5 rows × 87 columns</p>\n",
       "</div>"
      ],
      "text/plain": [
       "                  date  final.output.concentrate_ag  \\\n",
       "0  2016-01-15 00:00:00                     6.055403   \n",
       "1  2016-01-15 01:00:00                     6.029369   \n",
       "2  2016-01-15 02:00:00                     6.055926   \n",
       "3  2016-01-15 03:00:00                     6.047977   \n",
       "4  2016-01-15 04:00:00                     6.148599   \n",
       "\n",
       "   final.output.concentrate_pb  final.output.concentrate_sol  \\\n",
       "0                     9.889648                      5.507324   \n",
       "1                     9.968944                      5.257781   \n",
       "2                    10.213995                      5.383759   \n",
       "3                     9.977019                      4.858634   \n",
       "4                    10.142511                      4.939416   \n",
       "\n",
       "   final.output.concentrate_au  final.output.recovery  final.output.tail_ag  \\\n",
       "0                    42.192020              70.541216             10.411962   \n",
       "1                    42.701629              69.266198             10.462676   \n",
       "2                    42.657501              68.116445             10.507046   \n",
       "3                    42.689819              68.347543             10.422762   \n",
       "4                    42.774141              66.927016             10.360302   \n",
       "\n",
       "   final.output.tail_pb  final.output.tail_sol  final.output.tail_au  ...  \\\n",
       "0              0.895447              16.904297              2.143149  ...   \n",
       "1              0.927452              16.634514              2.224930  ...   \n",
       "2              0.953716              16.208849              2.257889  ...   \n",
       "3              0.883763              16.532835              2.146849  ...   \n",
       "4              0.792826              16.525686              2.055292  ...   \n",
       "\n",
       "   secondary_cleaner.state.floatbank4_a_air  \\\n",
       "0                                 14.016835   \n",
       "1                                 13.992281   \n",
       "2                                 14.015015   \n",
       "3                                 14.036510   \n",
       "4                                 14.027298   \n",
       "\n",
       "   secondary_cleaner.state.floatbank4_a_level  \\\n",
       "0                                 -502.488007   \n",
       "1                                 -505.503262   \n",
       "2                                 -502.520901   \n",
       "3                                 -500.857308   \n",
       "4                                 -499.838632   \n",
       "\n",
       "   secondary_cleaner.state.floatbank4_b_air  \\\n",
       "0                                 12.099931   \n",
       "1                                 11.950531   \n",
       "2                                 11.912783   \n",
       "3                                 11.999550   \n",
       "4                                 11.953070   \n",
       "\n",
       "   secondary_cleaner.state.floatbank4_b_level  \\\n",
       "0                                 -504.715942   \n",
       "1                                 -501.331529   \n",
       "2                                 -501.133383   \n",
       "3                                 -501.193686   \n",
       "4                                 -501.053894   \n",
       "\n",
       "   secondary_cleaner.state.floatbank5_a_air  \\\n",
       "0                                  9.925633   \n",
       "1                                 10.039245   \n",
       "2                                 10.070913   \n",
       "3                                  9.970366   \n",
       "4                                  9.925709   \n",
       "\n",
       "   secondary_cleaner.state.floatbank5_a_level  \\\n",
       "0                                 -498.310211   \n",
       "1                                 -500.169983   \n",
       "2                                 -500.129135   \n",
       "3                                 -499.201640   \n",
       "4                                 -501.686727   \n",
       "\n",
       "   secondary_cleaner.state.floatbank5_b_air  \\\n",
       "0                                  8.079666   \n",
       "1                                  7.984757   \n",
       "2                                  8.013877   \n",
       "3                                  7.977324   \n",
       "4                                  7.894242   \n",
       "\n",
       "   secondary_cleaner.state.floatbank5_b_level  \\\n",
       "0                                 -500.470978   \n",
       "1                                 -500.582168   \n",
       "2                                 -500.517572   \n",
       "3                                 -500.255908   \n",
       "4                                 -500.356035   \n",
       "\n",
       "   secondary_cleaner.state.floatbank6_a_air  \\\n",
       "0                                 14.151341   \n",
       "1                                 13.998353   \n",
       "2                                 14.028663   \n",
       "3                                 14.005551   \n",
       "4                                 13.996647   \n",
       "\n",
       "   secondary_cleaner.state.floatbank6_a_level  \n",
       "0                                 -605.841980  \n",
       "1                                 -599.787184  \n",
       "2                                 -601.427363  \n",
       "3                                 -599.996129  \n",
       "4                                 -601.496691  \n",
       "\n",
       "[5 rows x 87 columns]"
      ]
     },
     "execution_count": 8,
     "metadata": {},
     "output_type": "execute_result"
    }
   ],
   "source": [
    "df_full.head()"
   ]
  },
  {
   "cell_type": "code",
   "execution_count": 9,
   "metadata": {},
   "outputs": [],
   "source": [
    "#Función para obtener el Error Absoluto Medio\n",
    "\n",
    "def calculo (row):\n",
    "    num = row['rougher.output.concentrate_au']*(row['rougher.input.feed_au']-row['rougher.output.tail_au'])\n",
    "    den = row['rougher.input.feed_au']*(row['rougher.output.concentrate_au']-row['rougher.output.tail_au'])\n",
    "    try:\n",
    "        rec = 100 * num / den\n",
    "    except:\n",
    "        rec = 0\n",
    "    return rec"
   ]
  },
  {
   "cell_type": "code",
   "execution_count": 10,
   "metadata": {},
   "outputs": [],
   "source": [
    "#Aplicamos la funcion para sacar el EAM\n",
    "\n",
    "df_train['recovery'] = df_train.apply(lambda x: calculo(x), axis = 1)"
   ]
  },
  {
   "cell_type": "code",
   "execution_count": 11,
   "metadata": {},
   "outputs": [
    {
     "name": "stdout",
     "output_type": "stream",
     "text": [
      "El Error Absoluto Medio es: 1.0724115653039479e-14\n"
     ]
    }
   ],
   "source": [
    "#Obtenemos el EAM de la columna rougher.output.recovery del dataset entrenamiento (df_train)\n",
    "\n",
    "eam = (df_train['recovery'] - df_train['rougher.output.recovery']).abs().mean()\n",
    "print('El Error Absoluto Medio es:', eam)"
   ]
  },
  {
   "cell_type": "markdown",
   "metadata": {},
   "source": [
    "Se puede observar que el error absoluto medio que se encuentra en el df de entrenamiento (df_train) es bastante pequeño, por lo que se toma como válido el analizado (rougher.output.recovery)"
   ]
  },
  {
   "cell_type": "code",
   "execution_count": 12,
   "metadata": {},
   "outputs": [
    {
     "data": {
      "text/plain": [
       "{'final.output.concentrate_ag',\n",
       " 'final.output.concentrate_au',\n",
       " 'final.output.concentrate_pb',\n",
       " 'final.output.concentrate_sol',\n",
       " 'final.output.recovery',\n",
       " 'final.output.tail_ag',\n",
       " 'final.output.tail_au',\n",
       " 'final.output.tail_pb',\n",
       " 'final.output.tail_sol',\n",
       " 'primary_cleaner.output.concentrate_ag',\n",
       " 'primary_cleaner.output.concentrate_au',\n",
       " 'primary_cleaner.output.concentrate_pb',\n",
       " 'primary_cleaner.output.concentrate_sol',\n",
       " 'primary_cleaner.output.tail_ag',\n",
       " 'primary_cleaner.output.tail_au',\n",
       " 'primary_cleaner.output.tail_pb',\n",
       " 'primary_cleaner.output.tail_sol',\n",
       " 'recovery',\n",
       " 'rougher.calculation.au_pb_ratio',\n",
       " 'rougher.calculation.floatbank10_sulfate_to_au_feed',\n",
       " 'rougher.calculation.floatbank11_sulfate_to_au_feed',\n",
       " 'rougher.calculation.sulfate_to_au_concentrate',\n",
       " 'rougher.output.concentrate_ag',\n",
       " 'rougher.output.concentrate_au',\n",
       " 'rougher.output.concentrate_pb',\n",
       " 'rougher.output.concentrate_sol',\n",
       " 'rougher.output.recovery',\n",
       " 'rougher.output.tail_ag',\n",
       " 'rougher.output.tail_au',\n",
       " 'rougher.output.tail_pb',\n",
       " 'rougher.output.tail_sol',\n",
       " 'secondary_cleaner.output.tail_ag',\n",
       " 'secondary_cleaner.output.tail_au',\n",
       " 'secondary_cleaner.output.tail_pb',\n",
       " 'secondary_cleaner.output.tail_sol'}"
      ]
     },
     "execution_count": 12,
     "metadata": {},
     "output_type": "execute_result"
    }
   ],
   "source": [
    "#Se obtienen los parámetros no disponibles en el conjunto de prueba\n",
    "\n",
    "missed_columns = set(list(df_train.columns.values))-set(list(df_test.columns.values))\n",
    "missed_columns"
   ]
  },
  {
   "cell_type": "markdown",
   "metadata": {},
   "source": [
    "Al obtener las características que no se encuentran disponibles en el conjunto de prueba, se puede verificar que los parámetros son parte de procesos intermedios, por lo que se procederá a descartarlos para realizar el entrenamiento del modelo"
   ]
  },
  {
   "cell_type": "markdown",
   "metadata": {},
   "source": [
    "## Preprocesamiento de datos"
   ]
  },
  {
   "cell_type": "code",
   "execution_count": 13,
   "metadata": {},
   "outputs": [
    {
     "data": {
      "text/plain": [
       "rougher.output.recovery                               15.260973\n",
       "recovery                                              13.345196\n",
       "rougher.output.tail_ag                                13.345196\n",
       "rougher.output.tail_au                                13.339265\n",
       "rougher.output.tail_sol                               13.339265\n",
       "                                                        ...    \n",
       "primary_cleaner.state.floatbank8_d_level               0.160142\n",
       "rougher.calculation.sulfate_to_au_concentrate          0.160142\n",
       "rougher.calculation.floatbank11_sulfate_to_au_feed     0.160142\n",
       "primary_cleaner.input.feed_size                        0.000000\n",
       "date                                                   0.000000\n",
       "Length: 88, dtype: float64"
      ]
     },
     "execution_count": 13,
     "metadata": {},
     "output_type": "execute_result"
    }
   ],
   "source": [
    "#Se tratam los valores ausentes tomando el valor inmediato anterior más cerca. Esto debido a que los parámetros cercanos\n",
    "#en el tiempo suelen ser similares.\n",
    "\n",
    "\n",
    "train_null = ((df_train.isnull().sum() / len(df_train))*100).sort_values(ascending = False)\n",
    "train_null"
   ]
  },
  {
   "cell_type": "code",
   "execution_count": 14,
   "metadata": {},
   "outputs": [
    {
     "data": {
      "text/plain": [
       "0"
      ]
     },
     "execution_count": 14,
     "metadata": {},
     "output_type": "execute_result"
    }
   ],
   "source": [
    "#Se analiza si hay duplicados para ser tratados\n",
    "\n",
    "df_train.duplicated().sum()"
   ]
  },
  {
   "cell_type": "code",
   "execution_count": 15,
   "metadata": {},
   "outputs": [
    {
     "data": {
      "text/plain": [
       "rougher.input.floatbank11_xanthate            6.028005\n",
       "primary_cleaner.input.sulfate                 5.157104\n",
       "primary_cleaner.input.depressant              4.849727\n",
       "rougher.input.floatbank10_sulfate             4.388661\n",
       "primary_cleaner.input.xanthate                2.834699\n",
       "rougher.input.floatbank10_xanthate            2.100410\n",
       "rougher.input.feed_sol                        1.144126\n",
       "rougher.input.floatbank11_sulfate             0.939208\n",
       "rougher.input.feed_rate                       0.683060\n",
       "secondary_cleaner.state.floatbank3_a_air      0.580601\n",
       "secondary_cleaner.state.floatbank2_b_air      0.392760\n",
       "rougher.input.feed_size                       0.375683\n",
       "secondary_cleaner.state.floatbank2_a_air      0.341530\n",
       "rougher.state.floatbank10_a_air               0.290301\n",
       "rougher.state.floatbank10_c_air               0.290301\n",
       "rougher.state.floatbank10_d_air               0.290301\n",
       "rougher.state.floatbank10_e_air               0.290301\n",
       "rougher.state.floatbank10_b_air               0.290301\n",
       "rougher.state.floatbank10_f_air               0.290301\n",
       "secondary_cleaner.state.floatbank3_a_level    0.273224\n",
       "secondary_cleaner.state.floatbank3_b_air      0.273224\n",
       "secondary_cleaner.state.floatbank3_b_level    0.273224\n",
       "secondary_cleaner.state.floatbank4_a_air      0.273224\n",
       "secondary_cleaner.state.floatbank4_a_level    0.273224\n",
       "secondary_cleaner.state.floatbank4_b_air      0.273224\n",
       "secondary_cleaner.state.floatbank4_b_level    0.273224\n",
       "secondary_cleaner.state.floatbank5_a_air      0.273224\n",
       "secondary_cleaner.state.floatbank5_a_level    0.273224\n",
       "secondary_cleaner.state.floatbank2_b_level    0.273224\n",
       "secondary_cleaner.state.floatbank5_b_air      0.273224\n",
       "secondary_cleaner.state.floatbank5_b_level    0.273224\n",
       "secondary_cleaner.state.floatbank6_a_air      0.273224\n",
       "secondary_cleaner.state.floatbank2_a_level    0.273224\n",
       "rougher.state.floatbank10_b_level             0.273224\n",
       "secondary_cleaner.state.floatbank6_a_level    0.273224\n",
       "rougher.state.floatbank10_f_level             0.273224\n",
       "rougher.state.floatbank10_e_level             0.273224\n",
       "primary_cleaner.state.floatbank8_a_air        0.273224\n",
       "primary_cleaner.state.floatbank8_a_level      0.273224\n",
       "primary_cleaner.state.floatbank8_b_air        0.273224\n",
       "primary_cleaner.state.floatbank8_b_level      0.273224\n",
       "primary_cleaner.state.floatbank8_c_air        0.273224\n",
       "primary_cleaner.state.floatbank8_c_level      0.273224\n",
       "primary_cleaner.state.floatbank8_d_air        0.273224\n",
       "primary_cleaner.state.floatbank8_d_level      0.273224\n",
       "rougher.input.feed_ag                         0.273224\n",
       "rougher.input.feed_pb                         0.273224\n",
       "rougher.input.feed_au                         0.273224\n",
       "rougher.state.floatbank10_a_level             0.273224\n",
       "rougher.state.floatbank10_c_level             0.273224\n",
       "rougher.state.floatbank10_d_level             0.273224\n",
       "primary_cleaner.input.feed_size               0.000000\n",
       "date                                          0.000000\n",
       "dtype: float64"
      ]
     },
     "execution_count": 15,
     "metadata": {},
     "output_type": "execute_result"
    }
   ],
   "source": [
    "#Se tratam los valores ausentes tomando el valor inmediato anterior más cerca. Esto debido a que los parámetros cercanos\n",
    "#en el tiempo suelen ser similares.\n",
    "\n",
    "test_null = ((df_test.isnull().sum() / len(df_test))*100).sort_values(ascending = False)\n",
    "test_null"
   ]
  },
  {
   "cell_type": "code",
   "execution_count": 16,
   "metadata": {},
   "outputs": [
    {
     "data": {
      "text/plain": [
       "0"
      ]
     },
     "execution_count": 16,
     "metadata": {},
     "output_type": "execute_result"
    }
   ],
   "source": [
    "#Se analiza si hay duplicados para ser tratados\n",
    "\n",
    "df_test.duplicated().sum()"
   ]
  },
  {
   "cell_type": "code",
   "execution_count": 17,
   "metadata": {},
   "outputs": [
    {
     "data": {
      "text/plain": [
       "rougher.output.recovery                     13.730410\n",
       "rougher.output.tail_ag                      12.048776\n",
       "rougher.output.tail_au                      12.044374\n",
       "rougher.output.tail_sol                     12.044374\n",
       "rougher.input.floatbank11_xanthate           9.935728\n",
       "                                              ...    \n",
       "primary_cleaner.state.floatbank8_b_level     0.189294\n",
       "primary_cleaner.state.floatbank8_c_level     0.189294\n",
       "primary_cleaner.state.floatbank8_d_level     0.189294\n",
       "primary_cleaner.input.feed_size              0.000000\n",
       "date                                         0.000000\n",
       "Length: 87, dtype: float64"
      ]
     },
     "execution_count": 17,
     "metadata": {},
     "output_type": "execute_result"
    }
   ],
   "source": [
    "#Se tratam los valores ausentes tomando el valor inmediato anterior más cerca. Esto debido a que los parámetros cercanos\n",
    "#en el tiempo suelen ser similares.\n",
    "\n",
    "full_null = ((df_full.isnull().sum() / len(df_full))*100).sort_values(ascending = False)\n",
    "full_null"
   ]
  },
  {
   "cell_type": "code",
   "execution_count": 18,
   "metadata": {},
   "outputs": [
    {
     "data": {
      "text/plain": [
       "0"
      ]
     },
     "execution_count": 18,
     "metadata": {},
     "output_type": "execute_result"
    }
   ],
   "source": [
    "#Se analiza si hay duplicados para ser tratados\n",
    "\n",
    "df_full.duplicated().sum()"
   ]
  },
  {
   "cell_type": "code",
   "execution_count": 19,
   "metadata": {},
   "outputs": [],
   "source": [
    "#Se imputan los valores ausentes de los datasets\n",
    "\n",
    "df_train = df_train.fillna(method = 'ffill')\n",
    "df_test = df_test.fillna(method = 'ffill')\n",
    "df_full = df_full.fillna(method = 'ffill')"
   ]
  },
  {
   "cell_type": "markdown",
   "metadata": {},
   "source": [
    "## Análisis de datos"
   ]
  },
  {
   "cell_type": "markdown",
   "metadata": {},
   "source": [
    "A continuación se realiza un análisis para observar los cambios en la concentración de los metales por etapa, mediante gráfaicos para tener una mejor visualización"
   ]
  },
  {
   "cell_type": "code",
   "execution_count": 20,
   "metadata": {},
   "outputs": [
    {
     "data": {
      "text/plain": [
       "<AxesSubplot:ylabel='Frequency'>"
      ]
     },
     "execution_count": 20,
     "metadata": {},
     "output_type": "execute_result"
    },
    {
     "data": {
      "image/png": "[encoded data removed]",
      "text/plain": [
       "<Figure size 640x480 with 1 Axes>"
      ]
     },
     "metadata": {},
     "output_type": "display_data"
    }
   ],
   "source": [
    "df_train[['rougher.input.feed_au', \n",
    "          'rougher.output.concentrate_au', \n",
    "          'primary_cleaner.output.concentrate_au', \n",
    "          'final.output.concentrate_au']].plot.hist(alpha=0.5)"
   ]
  },
  {
   "cell_type": "code",
   "execution_count": 21,
   "metadata": {},
   "outputs": [
    {
     "data": {
      "text/plain": [
       "<AxesSubplot:ylabel='Frequency'>"
      ]
     },
     "execution_count": 21,
     "metadata": {},
     "output_type": "execute_result"
    },
    {
     "data": {
      "image/png": "[encoded data removed]",
      "text/plain": [
       "<Figure size 640x480 with 1 Axes>"
      ]
     },
     "metadata": {},
     "output_type": "display_data"
    }
   ],
   "source": [
    "df_train[['rougher.input.feed_ag',\n",
    "          'rougher.output.concentrate_ag',\n",
    "          'primary_cleaner.output.concentrate_ag', \n",
    "          'final.output.concentrate_ag']].plot.hist(alpha=0.5)"
   ]
  },
  {
   "cell_type": "code",
   "execution_count": 22,
   "metadata": {},
   "outputs": [
    {
     "data": {
      "text/plain": [
       "<AxesSubplot:ylabel='Frequency'>"
      ]
     },
     "execution_count": 22,
     "metadata": {},
     "output_type": "execute_result"
    },
    {
     "data": {
      "image/png": "[encoded data removed]",
      "text/plain": [
       "<Figure size 640x480 with 1 Axes>"
      ]
     },
     "metadata": {},
     "output_type": "display_data"
    }
   ],
   "source": [
    "df_train[['rougher.input.feed_pb', \n",
    "          'rougher.output.concentrate_pb', \n",
    "          'primary_cleaner.output.concentrate_pb', \n",
    "          'final.output.concentrate_pb']].plot.hist(alpha=0.5)"
   ]
  },
  {
   "cell_type": "markdown",
   "metadata": {},
   "source": [
    "Análisis para visualizar la distribución de particulas de alimentación, mediante gráficos para una mejor visualización"
   ]
  },
  {
   "cell_type": "code",
   "execution_count": 23,
   "metadata": {},
   "outputs": [
    {
     "data": {
      "text/plain": [
       "<AxesSubplot:ylabel='Frequency'>"
      ]
     },
     "execution_count": 23,
     "metadata": {},
     "output_type": "execute_result"
    },
    {
     "data": {
      "image/png": "[encoded data removed]",
      "text/plain": [
       "<Figure size 640x480 with 1 Axes>"
      ]
     },
     "metadata": {},
     "output_type": "display_data"
    }
   ],
   "source": [
    "#Distribución particulas de alimentación\n",
    "\n",
    "df_train['rougher.input.feed_au'].plot.hist(alpha=0.5)\n",
    "df_test['rougher.input.feed_au'].plot.hist(alpha=0.5)"
   ]
  },
  {
   "cell_type": "code",
   "execution_count": 24,
   "metadata": {},
   "outputs": [
    {
     "data": {
      "text/plain": [
       "<AxesSubplot:ylabel='Frequency'>"
      ]
     },
     "execution_count": 24,
     "metadata": {},
     "output_type": "execute_result"
    },
    {
     "data": {
      "image/png": "[encoded data removed]",
      "text/plain": [
       "<Figure size 640x480 with 1 Axes>"
      ]
     },
     "metadata": {},
     "output_type": "display_data"
    }
   ],
   "source": [
    "df_train['rougher.input.feed_ag'].plot.hist(alpha=0.5)\n",
    "df_test['rougher.input.feed_ag'].plot.hist(alpha=0.5)"
   ]
  },
  {
   "cell_type": "code",
   "execution_count": 25,
   "metadata": {},
   "outputs": [
    {
     "data": {
      "text/plain": [
       "<AxesSubplot:ylabel='Frequency'>"
      ]
     },
     "execution_count": 25,
     "metadata": {},
     "output_type": "execute_result"
    },
    {
     "data": {
      "image/png": "[encoded data removed]",
      "text/plain": [
       "<Figure size 640x480 with 1 Axes>"
      ]
     },
     "metadata": {},
     "output_type": "display_data"
    }
   ],
   "source": [
    "df_train['rougher.input.feed_pb'].plot.hist(alpha=0.5)\n",
    "df_test['rougher.input.feed_pb'].plot.hist(alpha=0.5)"
   ]
  },
  {
   "cell_type": "markdown",
   "metadata": {},
   "source": [
    "Visualizando las concentraciones totales mediante gráfico, para su mejor visualización"
   ]
  },
  {
   "cell_type": "code",
   "execution_count": 26,
   "metadata": {},
   "outputs": [
    {
     "data": {
      "text/plain": [
       "<AxesSubplot:ylabel='Frequency'>"
      ]
     },
     "execution_count": 26,
     "metadata": {},
     "output_type": "execute_result"
    },
    {
     "data": {
      "image/png": "[encoded data removed]",
      "text/plain": [
       "<Figure size 640x480 with 1 Axes>"
      ]
     },
     "metadata": {},
     "output_type": "display_data"
    }
   ],
   "source": [
    "df_train[['rougher.input.feed_au', 'rougher.output.concentrate_au', 'final.output.concentrate_au']].plot.hist(alpha=0.5)"
   ]
  },
  {
   "cell_type": "code",
   "execution_count": 27,
   "metadata": {},
   "outputs": [
    {
     "data": {
      "text/plain": [
       "<AxesSubplot:ylabel='Frequency'>"
      ]
     },
     "execution_count": 27,
     "metadata": {},
     "output_type": "execute_result"
    },
    {
     "data": {
      "image/png": "[encoded data removed]",
      "text/plain": [
       "<Figure size 640x480 with 1 Axes>"
      ]
     },
     "metadata": {},
     "output_type": "display_data"
    }
   ],
   "source": [
    "df_train[['rougher.input.feed_ag', 'rougher.output.concentrate_ag', 'final.output.concentrate_ag']].plot.hist(alpha=0.5)"
   ]
  },
  {
   "cell_type": "code",
   "execution_count": 28,
   "metadata": {},
   "outputs": [
    {
     "data": {
      "text/plain": [
       "<AxesSubplot:ylabel='Frequency'>"
      ]
     },
     "execution_count": 28,
     "metadata": {},
     "output_type": "execute_result"
    },
    {
     "data": {
      "image/png": "[encoded data removed]",
      "text/plain": [
       "<Figure size 640x480 with 1 Axes>"
      ]
     },
     "metadata": {},
     "output_type": "display_data"
    }
   ],
   "source": [
    "df_train[['rougher.input.feed_pb', 'rougher.output.concentrate_pb', 'final.output.concentrate_pb']].plot.hist(alpha=0.5)"
   ]
  },
  {
   "cell_type": "code",
   "execution_count": 29,
   "metadata": {},
   "outputs": [],
   "source": [
    "#Se observa una concentración elevada cercana a cero en los minerales previamente analizados, por lo que se procederá a \n",
    "#eliminar los valores.\n",
    "\n",
    "df_train.drop(df_train[(df_train['rougher.input.feed_au'] < 5) & \n",
    "                       (df_train['rougher.output.concentrate_au'] < 5) & \n",
    "                       (df_train['primary_cleaner.output.concentrate_au'] < 5) & \n",
    "                       (df_train['final.output.concentrate_au'] < 5)].index, inplace=True)"
   ]
  },
  {
   "cell_type": "code",
   "execution_count": 30,
   "metadata": {},
   "outputs": [
    {
     "data": {
      "text/plain": [
       "<AxesSubplot:ylabel='Frequency'>"
      ]
     },
     "execution_count": 30,
     "metadata": {},
     "output_type": "execute_result"
    },
    {
     "data": {
      "image/png": "[encoded data removed]",
      "text/plain": [
       "<Figure size 640x480 with 1 Axes>"
      ]
     },
     "metadata": {},
     "output_type": "display_data"
    }
   ],
   "source": [
    "df_train[['rougher.input.feed_au', 'rougher.output.concentrate_au', 'final.output.concentrate_au']].plot.hist(alpha=0.5)"
   ]
  },
  {
   "cell_type": "code",
   "execution_count": 31,
   "metadata": {},
   "outputs": [],
   "source": [
    "df_train.drop(df_train[(df_train['rougher.input.feed_ag'] < 2) & \n",
    "                       (df_train['rougher.output.concentrate_ag'] < 2) & \n",
    "                       (df_train['primary_cleaner.output.concentrate_ag'] < 2) & \n",
    "                       (df_train['final.output.concentrate_ag'] < 2)].index, inplace=True)"
   ]
  },
  {
   "cell_type": "code",
   "execution_count": 32,
   "metadata": {},
   "outputs": [
    {
     "data": {
      "text/plain": [
       "<AxesSubplot:ylabel='Frequency'>"
      ]
     },
     "execution_count": 32,
     "metadata": {},
     "output_type": "execute_result"
    },
    {
     "data": {
      "image/png": "[encoded data removed]",
      "text/plain": [
       "<Figure size 640x480 with 1 Axes>"
      ]
     },
     "metadata": {},
     "output_type": "display_data"
    }
   ],
   "source": [
    "df_train[['rougher.input.feed_ag', 'rougher.output.concentrate_ag', 'final.output.concentrate_ag']].plot.hist(alpha=0.5)"
   ]
  },
  {
   "cell_type": "code",
   "execution_count": 33,
   "metadata": {},
   "outputs": [],
   "source": [
    "df_train.drop(df_train[(df_train['rougher.input.feed_pb'] < 2) & \n",
    "                       (df_train['rougher.output.concentrate_pb'] < 2) & \n",
    "                       (df_train['primary_cleaner.output.concentrate_pb'] < 2) & \n",
    "                       (df_train['final.output.concentrate_pb'] < 2)].index, inplace=True)"
   ]
  },
  {
   "cell_type": "code",
   "execution_count": 34,
   "metadata": {},
   "outputs": [
    {
     "data": {
      "text/plain": [
       "<AxesSubplot:ylabel='Frequency'>"
      ]
     },
     "execution_count": 34,
     "metadata": {},
     "output_type": "execute_result"
    },
    {
     "data": {
      "image/png": "[encoded data removed]",
      "text/plain": [
       "<Figure size 640x480 with 1 Axes>"
      ]
     },
     "metadata": {},
     "output_type": "display_data"
    }
   ],
   "source": [
    "df_train[['rougher.input.feed_pb', 'rougher.output.concentrate_pb', 'final.output.concentrate_pb']].plot.hist(alpha=0.5)"
   ]
  },
  {
   "cell_type": "markdown",
   "metadata": {},
   "source": [
    "Como conclusión de los gráficos previamente analizados, al revisar la información sobre los cambios en las concentraciones, se pudo visualizar que la concentración del mineral va incrementando conforme van pasando las etapas de purificación (tal y como debería ser).\n",
    "Al revisar la distribución de las particulas de la alimentación, se pudo observar que la alimentación es bastante similar tanto en df prueba, como en df entrenamiento (con frecuencia diferente).\n",
    "Al revisar las concentraciones totales, se pudo visualizar que en los 3 minerales (au, ag y pb) se miró una concentración elevada cercana a cero, por lo que se procedió a eliminar dichos valores.\n",
    "Con esto analizado y realizado los tratamientos convenientes, se procederá a realizar el modelo"
   ]
  },
  {
   "cell_type": "markdown",
   "metadata": {},
   "source": [
    "## Construcción del modelo"
   ]
  },
  {
   "cell_type": "code",
   "execution_count": 35,
   "metadata": {},
   "outputs": [
    {
     "data": {
      "text/plain": [
       "array(['primary_cleaner.input.sulfate',\n",
       "       'primary_cleaner.input.depressant',\n",
       "       'primary_cleaner.input.feed_size',\n",
       "       'primary_cleaner.input.xanthate',\n",
       "       'primary_cleaner.state.floatbank8_a_air',\n",
       "       'primary_cleaner.state.floatbank8_a_level',\n",
       "       'primary_cleaner.state.floatbank8_b_air',\n",
       "       'primary_cleaner.state.floatbank8_b_level',\n",
       "       'primary_cleaner.state.floatbank8_c_air',\n",
       "       'primary_cleaner.state.floatbank8_c_level',\n",
       "       'primary_cleaner.state.floatbank8_d_air',\n",
       "       'primary_cleaner.state.floatbank8_d_level',\n",
       "       'rougher.input.feed_ag', 'rougher.input.feed_pb',\n",
       "       'rougher.input.feed_rate', 'rougher.input.feed_size',\n",
       "       'rougher.input.feed_sol', 'rougher.input.feed_au',\n",
       "       'rougher.input.floatbank10_sulfate',\n",
       "       'rougher.input.floatbank10_xanthate',\n",
       "       'rougher.input.floatbank11_sulfate',\n",
       "       'rougher.input.floatbank11_xanthate',\n",
       "       'rougher.state.floatbank10_a_air',\n",
       "       'rougher.state.floatbank10_a_level',\n",
       "       'rougher.state.floatbank10_b_air',\n",
       "       'rougher.state.floatbank10_b_level',\n",
       "       'rougher.state.floatbank10_c_air',\n",
       "       'rougher.state.floatbank10_c_level',\n",
       "       'rougher.state.floatbank10_d_air',\n",
       "       'rougher.state.floatbank10_d_level',\n",
       "       'rougher.state.floatbank10_e_air',\n",
       "       'rougher.state.floatbank10_e_level',\n",
       "       'rougher.state.floatbank10_f_air',\n",
       "       'rougher.state.floatbank10_f_level',\n",
       "       'secondary_cleaner.state.floatbank2_a_air',\n",
       "       'secondary_cleaner.state.floatbank2_a_level',\n",
       "       'secondary_cleaner.state.floatbank2_b_air',\n",
       "       'secondary_cleaner.state.floatbank2_b_level',\n",
       "       'secondary_cleaner.state.floatbank3_a_air',\n",
       "       'secondary_cleaner.state.floatbank3_a_level',\n",
       "       'secondary_cleaner.state.floatbank3_b_air',\n",
       "       'secondary_cleaner.state.floatbank3_b_level',\n",
       "       'secondary_cleaner.state.floatbank4_a_air',\n",
       "       'secondary_cleaner.state.floatbank4_a_level',\n",
       "       'secondary_cleaner.state.floatbank4_b_air',\n",
       "       'secondary_cleaner.state.floatbank4_b_level',\n",
       "       'secondary_cleaner.state.floatbank5_a_air',\n",
       "       'secondary_cleaner.state.floatbank5_a_level',\n",
       "       'secondary_cleaner.state.floatbank5_b_air',\n",
       "       'secondary_cleaner.state.floatbank5_b_level',\n",
       "       'secondary_cleaner.state.floatbank6_a_air',\n",
       "       'secondary_cleaner.state.floatbank6_a_level'], dtype=object)"
      ]
     },
     "execution_count": 35,
     "metadata": {},
     "output_type": "execute_result"
    }
   ],
   "source": [
    "features = df_test.drop(['date'], axis=1)\n",
    "features = features.columns.values\n",
    "features"
   ]
  },
  {
   "cell_type": "code",
   "execution_count": 36,
   "metadata": {},
   "outputs": [],
   "source": [
    "target = ['rougher.output.recovery', 'final.output.recovery']"
   ]
  },
  {
   "cell_type": "code",
   "execution_count": 37,
   "metadata": {},
   "outputs": [],
   "source": [
    "X_train = df_train[features].reset_index(drop = True)\n",
    "y_train = df_train[target].reset_index(drop = True)\n",
    "\n",
    "y_train.columns = [0,1]"
   ]
  },
  {
   "cell_type": "code",
   "execution_count": 38,
   "metadata": {},
   "outputs": [],
   "source": [
    "#Se realiza el cálculo de sMAPE\n",
    "\n",
    "def smape_comp(y, y_pred):\n",
    "    n = len(y)\n",
    "    real = abs(y)\n",
    "    pred = abs(y_pred)\n",
    "    dif = abs(y - y_pred)\n",
    "    smape =  (1/n)*np.sum(dif /((real + pred)/2))*100\n",
    "    return smape\n",
    "\n",
    "def smape_pond(y, y_pred):\n",
    "    \n",
    "    y_rougher = y.iloc[:,0]\n",
    "    y_pred_rougher = y_pred[:,0]\n",
    "    \n",
    "    y_final = y.iloc[:,1]\n",
    "    y_pred_final = y_pred[:,1]\n",
    "    \n",
    "    smape_rougher = smape_comp(y_rougher, y_pred_rougher)\n",
    "    smape_final = smape_comp(y_final, y_pred_final)\n",
    "    \n",
    "    return (0.25*smape_rougher + 0.75*smape_final)"
   ]
  },
  {
   "cell_type": "code",
   "execution_count": 39,
   "metadata": {},
   "outputs": [],
   "source": [
    "smape_score = make_scorer(smape_pond)"
   ]
  },
  {
   "cell_type": "markdown",
   "metadata": {},
   "source": [
    "## Entrenamiento de diferentes modelos y evaluación por medio de validación cruzada"
   ]
  },
  {
   "cell_type": "code",
   "execution_count": 40,
   "metadata": {},
   "outputs": [],
   "source": [
    "lr_model = LinearRegression()\n",
    "lr_scores = cross_val_score(lr_model, X_train, y_train, scoring = smape_score, cv = 5)\n",
    "\n",
    "pd.options.mode.chained_assignment = None"
   ]
  },
  {
   "cell_type": "code",
   "execution_count": 41,
   "metadata": {},
   "outputs": [
    {
     "name": "stdout",
     "output_type": "stream",
     "text": [
      "Puntajes sMAPE para cada iteración: [16.01658822 10.40121606 14.26950348 15.6416771  15.90949483]\n",
      "Modelo de Regresión Lineal | sMAPE = 14.447696\n"
     ]
    }
   ],
   "source": [
    "lr_final_score = lr_scores.mean()\n",
    "\n",
    "print('Puntajes sMAPE para cada iteración:', lr_scores)\n",
    "print('Modelo de Regresión Lineal | sMAPE = {:.6f}'.format(lr_final_score))"
   ]
  },
  {
   "cell_type": "code",
   "execution_count": 42,
   "metadata": {},
   "outputs": [],
   "source": [
    "rf_model = RandomForestRegressor(random_state=54321, n_estimators=3)\n",
    "rf_scores = cross_val_score(rf_model, X_train, y_train, scoring = smape_score, cv = 5)"
   ]
  },
  {
   "cell_type": "code",
   "execution_count": 43,
   "metadata": {},
   "outputs": [
    {
     "name": "stdout",
     "output_type": "stream",
     "text": [
      "Puntajes sMAPE para cada iteración: [17.65152891 15.34526623 14.91563385 19.39197837 17.26898897]\n",
      "Modelo de Regresión Lineal | sMAPE = 16.914679\n"
     ]
    }
   ],
   "source": [
    "rf_final_score = rf_scores.mean()\n",
    "\n",
    "print('Puntajes sMAPE para cada iteración:', rf_scores)\n",
    "print('Modelo de Regresión Lineal | sMAPE = {:.6f}'.format(rf_final_score))"
   ]
  },
  {
   "cell_type": "code",
   "execution_count": 44,
   "metadata": {},
   "outputs": [],
   "source": [
    "dt_model = DecisionTreeRegressor(random_state=12345)\n",
    "dt_scores = cross_val_score(dt_model, X_train, y_train, scoring = smape_score, cv = 5)"
   ]
  },
  {
   "cell_type": "code",
   "execution_count": 45,
   "metadata": {},
   "outputs": [
    {
     "name": "stdout",
     "output_type": "stream",
     "text": [
      "Puntajes sMAPE para cada iteración: [24.853476   36.90985404 22.09646288 21.37233277 20.8527349 ]\n",
      "Modelo de Regresión Lineal | sMAPE = 25.216972\n"
     ]
    }
   ],
   "source": [
    "dt_final_score = dt_scores.mean()\n",
    "\n",
    "print('Puntajes sMAPE para cada iteración:', dt_scores)\n",
    "print('Modelo de Regresión Lineal | sMAPE = {:.6f}'.format(dt_final_score))"
   ]
  },
  {
   "cell_type": "markdown",
   "metadata": {},
   "source": [
    "## Conclusión"
   ]
  },
  {
   "cell_type": "markdown",
   "metadata": {},
   "source": [
    "Al realizar un análisis completo y posteriormente el entrenamiento de diferentes modelos y evaluarlos con validación cruzada, podemos concluir que en este caso se tomaría la regresión lineal como el modelo más idóneo, ya que al realizar la evaluación por medio de la validación cruzada, arroja un valor promedio para la métrica sMAPE más baja."
   ]
  }
 ],
 "metadata": {
  "ExecuteTimeLog": [
   {
    "duration": 2980,
    "start_time": "2025-02-19T17:41:44.440Z"
   },
   {
    "duration": 650,
    "start_time": "2025-02-19T17:46:05.994Z"
   },
   {
    "duration": 76,
    "start_time": "2025-02-19T17:46:16.163Z"
   },
   {
    "duration": 61,
    "start_time": "2025-02-19T17:47:56.191Z"
   },
   {
    "duration": 62,
    "start_time": "2025-02-19T17:48:16.990Z"
   },
   {
    "duration": 318,
    "start_time": "2025-02-19T17:49:03.138Z"
   },
   {
    "duration": 875,
    "start_time": "2025-02-19T17:49:42.930Z"
   },
   {
    "duration": 817,
    "start_time": "2025-02-19T17:49:43.807Z"
   },
   {
    "duration": 331,
    "start_time": "2025-02-19T17:50:12.924Z"
   },
   {
    "duration": 610,
    "start_time": "2025-02-19T17:50:40.804Z"
   },
   {
    "duration": 14,
    "start_time": "2025-02-19T17:51:41.424Z"
   },
   {
    "duration": 17,
    "start_time": "2025-02-19T17:52:21.824Z"
   },
   {
    "duration": 10,
    "start_time": "2025-02-19T17:53:19.896Z"
   },
   {
    "duration": 15,
    "start_time": "2025-02-19T17:53:43.349Z"
   },
   {
    "duration": 13,
    "start_time": "2025-02-19T17:54:13.101Z"
   },
   {
    "duration": 15,
    "start_time": "2025-02-19T17:54:31.247Z"
   },
   {
    "duration": 3,
    "start_time": "2025-02-19T18:09:51.952Z"
   },
   {
    "duration": 194,
    "start_time": "2025-02-19T18:18:08.790Z"
   },
   {
    "duration": 43,
    "start_time": "2025-02-19T18:18:44.428Z"
   },
   {
    "duration": 2687,
    "start_time": "2025-02-20T16:39:30.196Z"
   },
   {
    "duration": 605,
    "start_time": "2025-02-20T16:39:32.885Z"
   },
   {
    "duration": 16,
    "start_time": "2025-02-20T16:39:33.492Z"
   },
   {
    "duration": 19,
    "start_time": "2025-02-20T16:39:33.511Z"
   },
   {
    "duration": 22,
    "start_time": "2025-02-20T16:39:33.531Z"
   },
   {
    "duration": 15,
    "start_time": "2025-02-20T16:39:33.555Z"
   },
   {
    "duration": 13,
    "start_time": "2025-02-20T16:39:33.573Z"
   },
   {
    "duration": 15,
    "start_time": "2025-02-20T16:39:33.588Z"
   },
   {
    "duration": 41,
    "start_time": "2025-02-20T16:39:33.605Z"
   },
   {
    "duration": 301,
    "start_time": "2025-02-20T16:39:48.283Z"
   },
   {
    "duration": 6,
    "start_time": "2025-02-20T16:40:04.025Z"
   },
   {
    "duration": 5,
    "start_time": "2025-02-20T16:40:48.533Z"
   },
   {
    "duration": 4,
    "start_time": "2025-02-20T16:41:23.876Z"
   },
   {
    "duration": 9,
    "start_time": "2025-02-20T16:47:05.701Z"
   },
   {
    "duration": 58,
    "start_time": "2025-02-20T16:47:26.773Z"
   },
   {
    "duration": 8,
    "start_time": "2025-02-20T16:48:12.982Z"
   },
   {
    "duration": 18,
    "start_time": "2025-02-20T16:48:37.970Z"
   },
   {
    "duration": 11,
    "start_time": "2025-02-20T16:49:17.243Z"
   },
   {
    "duration": 83,
    "start_time": "2025-02-20T16:49:42.037Z"
   },
   {
    "duration": 24,
    "start_time": "2025-02-20T16:50:30.479Z"
   },
   {
    "duration": 6,
    "start_time": "2025-02-20T17:23:15.441Z"
   },
   {
    "duration": 5,
    "start_time": "2025-02-20T17:26:19.500Z"
   },
   {
    "duration": 989,
    "start_time": "2025-02-20T17:26:32.577Z"
   },
   {
    "duration": 578,
    "start_time": "2025-02-20T17:26:33.569Z"
   },
   {
    "duration": 70,
    "start_time": "2025-02-20T17:26:34.149Z"
   },
   {
    "duration": 29,
    "start_time": "2025-02-20T17:26:34.221Z"
   },
   {
    "duration": 11,
    "start_time": "2025-02-20T17:26:34.253Z"
   },
   {
    "duration": 14,
    "start_time": "2025-02-20T17:26:34.267Z"
   },
   {
    "duration": 13,
    "start_time": "2025-02-20T17:26:34.282Z"
   },
   {
    "duration": 14,
    "start_time": "2025-02-20T17:26:34.297Z"
   },
   {
    "duration": 3,
    "start_time": "2025-02-20T17:26:34.342Z"
   },
   {
    "duration": 296,
    "start_time": "2025-02-20T17:26:34.347Z"
   },
   {
    "duration": 6,
    "start_time": "2025-02-20T17:26:34.645Z"
   },
   {
    "duration": 342,
    "start_time": "2025-02-20T17:26:34.653Z"
   },
   {
    "duration": 0,
    "start_time": "2025-02-20T17:26:34.997Z"
   },
   {
    "duration": 0,
    "start_time": "2025-02-20T17:26:34.998Z"
   },
   {
    "duration": 0,
    "start_time": "2025-02-20T17:26:35.000Z"
   },
   {
    "duration": 0,
    "start_time": "2025-02-20T17:26:35.001Z"
   },
   {
    "duration": 0,
    "start_time": "2025-02-20T17:26:35.003Z"
   },
   {
    "duration": 0,
    "start_time": "2025-02-20T17:26:35.004Z"
   },
   {
    "duration": 0,
    "start_time": "2025-02-20T17:26:35.006Z"
   },
   {
    "duration": 0,
    "start_time": "2025-02-20T17:26:35.007Z"
   },
   {
    "duration": 0,
    "start_time": "2025-02-20T17:26:35.009Z"
   },
   {
    "duration": 914,
    "start_time": "2025-02-20T17:27:20.120Z"
   },
   {
    "duration": 498,
    "start_time": "2025-02-20T17:27:21.036Z"
   },
   {
    "duration": 63,
    "start_time": "2025-02-20T17:27:21.536Z"
   },
   {
    "duration": 17,
    "start_time": "2025-02-20T17:27:21.602Z"
   },
   {
    "duration": 26,
    "start_time": "2025-02-20T17:27:21.620Z"
   },
   {
    "duration": 15,
    "start_time": "2025-02-20T17:27:21.647Z"
   },
   {
    "duration": 12,
    "start_time": "2025-02-20T17:27:21.663Z"
   },
   {
    "duration": 14,
    "start_time": "2025-02-20T17:27:21.677Z"
   },
   {
    "duration": 4,
    "start_time": "2025-02-20T17:27:21.692Z"
   },
   {
    "duration": 360,
    "start_time": "2025-02-20T17:27:21.698Z"
   },
   {
    "duration": 8,
    "start_time": "2025-02-20T17:27:22.060Z"
   },
   {
    "duration": 2,
    "start_time": "2025-02-20T17:27:22.070Z"
   },
   {
    "duration": 4,
    "start_time": "2025-02-20T17:27:22.074Z"
   },
   {
    "duration": 8,
    "start_time": "2025-02-20T17:27:22.080Z"
   },
   {
    "duration": 77,
    "start_time": "2025-02-20T17:27:22.091Z"
   },
   {
    "duration": 7,
    "start_time": "2025-02-20T17:27:22.170Z"
   },
   {
    "duration": 18,
    "start_time": "2025-02-20T17:27:22.179Z"
   },
   {
    "duration": 8,
    "start_time": "2025-02-20T17:27:22.199Z"
   },
   {
    "duration": 108,
    "start_time": "2025-02-20T17:27:22.209Z"
   },
   {
    "duration": 25,
    "start_time": "2025-02-20T17:27:22.320Z"
   },
   {
    "duration": 5,
    "start_time": "2025-02-20T17:27:22.346Z"
   },
   {
    "duration": 4,
    "start_time": "2025-02-20T17:48:32.420Z"
   },
   {
    "duration": 315,
    "start_time": "2025-02-20T17:48:47.276Z"
   },
   {
    "duration": 5,
    "start_time": "2025-02-20T17:48:53.419Z"
   },
   {
    "duration": 867,
    "start_time": "2025-02-20T17:49:06.816Z"
   },
   {
    "duration": 498,
    "start_time": "2025-02-20T17:49:07.685Z"
   },
   {
    "duration": 63,
    "start_time": "2025-02-20T17:49:08.185Z"
   },
   {
    "duration": 21,
    "start_time": "2025-02-20T17:49:08.250Z"
   },
   {
    "duration": 10,
    "start_time": "2025-02-20T17:49:08.273Z"
   },
   {
    "duration": 16,
    "start_time": "2025-02-20T17:49:08.285Z"
   },
   {
    "duration": 13,
    "start_time": "2025-02-20T17:49:08.302Z"
   },
   {
    "duration": 39,
    "start_time": "2025-02-20T17:49:08.316Z"
   },
   {
    "duration": 3,
    "start_time": "2025-02-20T17:49:08.357Z"
   },
   {
    "duration": 298,
    "start_time": "2025-02-20T17:49:08.363Z"
   },
   {
    "duration": 6,
    "start_time": "2025-02-20T17:49:08.663Z"
   },
   {
    "duration": 4,
    "start_time": "2025-02-20T17:49:08.671Z"
   },
   {
    "duration": 8,
    "start_time": "2025-02-20T17:49:08.676Z"
   },
   {
    "duration": 83,
    "start_time": "2025-02-20T17:49:08.685Z"
   },
   {
    "duration": 9,
    "start_time": "2025-02-20T17:49:08.770Z"
   },
   {
    "duration": 23,
    "start_time": "2025-02-20T17:49:08.780Z"
   },
   {
    "duration": 9,
    "start_time": "2025-02-20T17:49:08.804Z"
   },
   {
    "duration": 103,
    "start_time": "2025-02-20T17:49:08.814Z"
   },
   {
    "duration": 29,
    "start_time": "2025-02-20T17:49:08.919Z"
   },
   {
    "duration": 188,
    "start_time": "2025-02-20T17:58:37.733Z"
   },
   {
    "duration": 199,
    "start_time": "2025-02-20T17:59:31.478Z"
   },
   {
    "duration": 197,
    "start_time": "2025-02-20T18:01:15.749Z"
   },
   {
    "duration": 180,
    "start_time": "2025-02-20T18:01:52.206Z"
   },
   {
    "duration": 119,
    "start_time": "2025-02-20T18:02:12.911Z"
   },
   {
    "duration": 2712,
    "start_time": "2025-02-21T16:22:48.943Z"
   },
   {
    "duration": 580,
    "start_time": "2025-02-21T16:22:51.657Z"
   },
   {
    "duration": 15,
    "start_time": "2025-02-21T16:22:52.238Z"
   },
   {
    "duration": 18,
    "start_time": "2025-02-21T16:22:52.255Z"
   },
   {
    "duration": 10,
    "start_time": "2025-02-21T16:22:52.274Z"
   },
   {
    "duration": 15,
    "start_time": "2025-02-21T16:22:52.287Z"
   },
   {
    "duration": 43,
    "start_time": "2025-02-21T16:22:52.303Z"
   },
   {
    "duration": 17,
    "start_time": "2025-02-21T16:22:52.347Z"
   },
   {
    "duration": 3,
    "start_time": "2025-02-21T16:22:52.366Z"
   },
   {
    "duration": 308,
    "start_time": "2025-02-21T16:22:52.373Z"
   },
   {
    "duration": 6,
    "start_time": "2025-02-21T16:22:52.683Z"
   },
   {
    "duration": 4,
    "start_time": "2025-02-21T16:22:52.691Z"
   },
   {
    "duration": 9,
    "start_time": "2025-02-21T16:22:52.696Z"
   },
   {
    "duration": 81,
    "start_time": "2025-02-21T16:22:52.706Z"
   },
   {
    "duration": 8,
    "start_time": "2025-02-21T16:22:52.789Z"
   },
   {
    "duration": 18,
    "start_time": "2025-02-21T16:22:52.799Z"
   },
   {
    "duration": 27,
    "start_time": "2025-02-21T16:22:52.819Z"
   },
   {
    "duration": 82,
    "start_time": "2025-02-21T16:22:52.848Z"
   },
   {
    "duration": 18,
    "start_time": "2025-02-21T16:22:52.943Z"
   },
   {
    "duration": 206,
    "start_time": "2025-02-21T16:22:52.964Z"
   },
   {
    "duration": 192,
    "start_time": "2025-02-21T16:22:53.171Z"
   },
   {
    "duration": 207,
    "start_time": "2025-02-21T16:22:53.365Z"
   },
   {
    "duration": 188,
    "start_time": "2025-02-21T16:22:53.574Z"
   },
   {
    "duration": 126,
    "start_time": "2025-02-21T16:22:53.764Z"
   },
   {
    "duration": 129,
    "start_time": "2025-02-21T16:25:26.403Z"
   },
   {
    "duration": 168,
    "start_time": "2025-02-21T16:26:40.718Z"
   },
   {
    "duration": 162,
    "start_time": "2025-02-21T16:27:01.066Z"
   },
   {
    "duration": 170,
    "start_time": "2025-02-21T16:27:21.378Z"
   },
   {
    "duration": 8,
    "start_time": "2025-02-21T16:28:14.950Z"
   },
   {
    "duration": 10,
    "start_time": "2025-02-21T16:28:24.283Z"
   },
   {
    "duration": 187,
    "start_time": "2025-02-21T16:28:47.957Z"
   },
   {
    "duration": 8,
    "start_time": "2025-02-21T16:34:08.160Z"
   },
   {
    "duration": 156,
    "start_time": "2025-02-21T16:34:15.013Z"
   },
   {
    "duration": 7,
    "start_time": "2025-02-21T16:34:51.119Z"
   },
   {
    "duration": 166,
    "start_time": "2025-02-21T16:35:16.036Z"
   },
   {
    "duration": 8,
    "start_time": "2025-02-21T16:35:47.799Z"
   },
   {
    "duration": 176,
    "start_time": "2025-02-21T16:36:04.010Z"
   },
   {
    "duration": 5,
    "start_time": "2025-02-21T16:37:07.285Z"
   },
   {
    "duration": 3,
    "start_time": "2025-02-21T16:37:34.000Z"
   },
   {
    "duration": 5,
    "start_time": "2025-02-21T16:38:20.894Z"
   },
   {
    "duration": 4,
    "start_time": "2025-02-21T16:40:32.659Z"
   },
   {
    "duration": 298,
    "start_time": "2025-02-21T16:41:07.425Z"
   },
   {
    "duration": 3,
    "start_time": "2025-02-21T16:41:38.019Z"
   },
   {
    "duration": 14,
    "start_time": "2025-02-21T16:43:31.729Z"
   },
   {
    "duration": 637,
    "start_time": "2025-02-21T16:43:40.823Z"
   },
   {
    "duration": 509,
    "start_time": "2025-02-21T16:54:25.792Z"
   },
   {
    "duration": 566,
    "start_time": "2025-02-21T16:54:36.387Z"
   },
   {
    "duration": 3,
    "start_time": "2025-02-21T16:55:01.332Z"
   },
   {
    "duration": 703,
    "start_time": "2025-02-21T16:55:37.550Z"
   },
   {
    "duration": 887,
    "start_time": "2025-02-21T17:06:53.022Z"
   },
   {
    "duration": 492,
    "start_time": "2025-02-21T17:06:53.911Z"
   },
   {
    "duration": 65,
    "start_time": "2025-02-21T17:06:54.405Z"
   },
   {
    "duration": 17,
    "start_time": "2025-02-21T17:06:54.472Z"
   },
   {
    "duration": 11,
    "start_time": "2025-02-21T17:06:54.490Z"
   },
   {
    "duration": 15,
    "start_time": "2025-02-21T17:06:54.503Z"
   },
   {
    "duration": 35,
    "start_time": "2025-02-21T17:06:54.519Z"
   },
   {
    "duration": 14,
    "start_time": "2025-02-21T17:06:54.556Z"
   },
   {
    "duration": 4,
    "start_time": "2025-02-21T17:06:54.571Z"
   },
   {
    "duration": 314,
    "start_time": "2025-02-21T17:06:54.578Z"
   },
   {
    "duration": 6,
    "start_time": "2025-02-21T17:06:54.894Z"
   },
   {
    "duration": 5,
    "start_time": "2025-02-21T17:06:54.901Z"
   },
   {
    "duration": 8,
    "start_time": "2025-02-21T17:06:54.908Z"
   },
   {
    "duration": 83,
    "start_time": "2025-02-21T17:06:54.917Z"
   },
   {
    "duration": 7,
    "start_time": "2025-02-21T17:06:55.002Z"
   },
   {
    "duration": 37,
    "start_time": "2025-02-21T17:06:55.010Z"
   },
   {
    "duration": 9,
    "start_time": "2025-02-21T17:06:55.049Z"
   },
   {
    "duration": 98,
    "start_time": "2025-02-21T17:06:55.061Z"
   },
   {
    "duration": 17,
    "start_time": "2025-02-21T17:06:55.160Z"
   },
   {
    "duration": 212,
    "start_time": "2025-02-21T17:06:55.179Z"
   },
   {
    "duration": 191,
    "start_time": "2025-02-21T17:06:55.393Z"
   },
   {
    "duration": 206,
    "start_time": "2025-02-21T17:06:55.586Z"
   },
   {
    "duration": 119,
    "start_time": "2025-02-21T17:06:55.793Z"
   },
   {
    "duration": 130,
    "start_time": "2025-02-21T17:06:55.914Z"
   },
   {
    "duration": 133,
    "start_time": "2025-02-21T17:06:56.045Z"
   },
   {
    "duration": 172,
    "start_time": "2025-02-21T17:06:56.180Z"
   },
   {
    "duration": 176,
    "start_time": "2025-02-21T17:06:56.354Z"
   },
   {
    "duration": 176,
    "start_time": "2025-02-21T17:06:56.534Z"
   },
   {
    "duration": 9,
    "start_time": "2025-02-21T17:06:56.711Z"
   },
   {
    "duration": 167,
    "start_time": "2025-02-21T17:06:56.722Z"
   },
   {
    "duration": 7,
    "start_time": "2025-02-21T17:06:56.891Z"
   },
   {
    "duration": 237,
    "start_time": "2025-02-21T17:06:56.900Z"
   },
   {
    "duration": 7,
    "start_time": "2025-02-21T17:06:57.138Z"
   },
   {
    "duration": 196,
    "start_time": "2025-02-21T17:06:57.146Z"
   },
   {
    "duration": 5,
    "start_time": "2025-02-21T17:06:57.344Z"
   },
   {
    "duration": 3,
    "start_time": "2025-02-21T17:06:57.351Z"
   },
   {
    "duration": 5,
    "start_time": "2025-02-21T17:06:57.355Z"
   },
   {
    "duration": 4,
    "start_time": "2025-02-21T17:06:57.362Z"
   },
   {
    "duration": 2,
    "start_time": "2025-02-21T17:06:57.368Z"
   },
   {
    "duration": 484,
    "start_time": "2025-02-21T17:06:57.372Z"
   },
   {
    "duration": 3,
    "start_time": "2025-02-21T17:06:57.858Z"
   },
   {
    "duration": 4,
    "start_time": "2025-02-21T17:09:07.133Z"
   },
   {
    "duration": 437,
    "start_time": "2025-02-21T17:09:15.621Z"
   },
   {
    "duration": 3,
    "start_time": "2025-02-21T17:09:21.483Z"
   },
   {
    "duration": 3081,
    "start_time": "2025-02-25T00:13:24.595Z"
   },
   {
    "duration": 767,
    "start_time": "2025-02-25T00:13:27.679Z"
   },
   {
    "duration": 15,
    "start_time": "2025-02-25T00:13:28.451Z"
   },
   {
    "duration": 16,
    "start_time": "2025-02-25T00:13:28.468Z"
   },
   {
    "duration": 10,
    "start_time": "2025-02-25T00:13:28.486Z"
   },
   {
    "duration": 18,
    "start_time": "2025-02-25T00:13:28.498Z"
   },
   {
    "duration": 27,
    "start_time": "2025-02-25T00:13:28.531Z"
   },
   {
    "duration": 19,
    "start_time": "2025-02-25T00:13:28.560Z"
   },
   {
    "duration": 3,
    "start_time": "2025-02-25T00:13:28.581Z"
   },
   {
    "duration": 347,
    "start_time": "2025-02-25T00:13:28.588Z"
   },
   {
    "duration": 11,
    "start_time": "2025-02-25T00:13:28.947Z"
   },
   {
    "duration": 7,
    "start_time": "2025-02-25T00:13:28.961Z"
   },
   {
    "duration": 12,
    "start_time": "2025-02-25T00:13:28.971Z"
   },
   {
    "duration": 78,
    "start_time": "2025-02-25T00:13:28.985Z"
   },
   {
    "duration": 7,
    "start_time": "2025-02-25T00:13:29.068Z"
   },
   {
    "duration": 24,
    "start_time": "2025-02-25T00:13:29.077Z"
   },
   {
    "duration": 14,
    "start_time": "2025-02-25T00:13:29.103Z"
   },
   {
    "duration": 120,
    "start_time": "2025-02-25T00:13:29.123Z"
   },
   {
    "duration": 18,
    "start_time": "2025-02-25T00:13:29.252Z"
   },
   {
    "duration": 206,
    "start_time": "2025-02-25T00:13:29.272Z"
   },
   {
    "duration": 289,
    "start_time": "2025-02-25T00:13:29.480Z"
   },
   {
    "duration": 231,
    "start_time": "2025-02-25T00:13:29.771Z"
   },
   {
    "duration": 152,
    "start_time": "2025-02-25T00:13:30.011Z"
   },
   {
    "duration": 145,
    "start_time": "2025-02-25T00:13:30.165Z"
   },
   {
    "duration": 158,
    "start_time": "2025-02-25T00:13:30.323Z"
   },
   {
    "duration": 177,
    "start_time": "2025-02-25T00:13:30.482Z"
   },
   {
    "duration": 199,
    "start_time": "2025-02-25T00:13:30.660Z"
   },
   {
    "duration": 197,
    "start_time": "2025-02-25T00:13:30.864Z"
   },
   {
    "duration": 8,
    "start_time": "2025-02-25T00:13:31.063Z"
   },
   {
    "duration": 193,
    "start_time": "2025-02-25T00:13:31.074Z"
   },
   {
    "duration": 8,
    "start_time": "2025-02-25T00:13:31.270Z"
   },
   {
    "duration": 221,
    "start_time": "2025-02-25T00:13:31.280Z"
   },
   {
    "duration": 13,
    "start_time": "2025-02-25T00:13:31.503Z"
   },
   {
    "duration": 217,
    "start_time": "2025-02-25T00:13:31.517Z"
   },
   {
    "duration": 5,
    "start_time": "2025-02-25T00:13:31.736Z"
   },
   {
    "duration": 17,
    "start_time": "2025-02-25T00:13:31.742Z"
   },
   {
    "duration": 5,
    "start_time": "2025-02-25T00:13:31.764Z"
   },
   {
    "duration": 5,
    "start_time": "2025-02-25T00:13:31.771Z"
   },
   {
    "duration": 2,
    "start_time": "2025-02-25T00:13:31.778Z"
   },
   {
    "duration": 849,
    "start_time": "2025-02-25T00:13:31.782Z"
   },
   {
    "duration": 23,
    "start_time": "2025-02-25T00:13:32.632Z"
   },
   {
    "duration": 229,
    "start_time": "2025-02-25T00:28:07.751Z"
   },
   {
    "duration": 9397,
    "start_time": "2025-02-25T00:28:17.578Z"
   },
   {
    "duration": 4,
    "start_time": "2025-02-25T00:28:39.340Z"
   },
   {
    "duration": 5327,
    "start_time": "2025-02-25T00:30:12.876Z"
   },
   {
    "duration": 3,
    "start_time": "2025-02-25T00:30:25.762Z"
   },
   {
    "duration": 4,
    "start_time": "2025-02-25T00:37:11.261Z"
   },
   {
    "duration": 952,
    "start_time": "2025-02-25T00:37:22.775Z"
   },
   {
    "duration": 502,
    "start_time": "2025-02-25T00:37:23.729Z"
   },
   {
    "duration": 62,
    "start_time": "2025-02-25T00:37:24.233Z"
   },
   {
    "duration": 26,
    "start_time": "2025-02-25T00:37:24.298Z"
   },
   {
    "duration": 11,
    "start_time": "2025-02-25T00:37:24.325Z"
   },
   {
    "duration": 14,
    "start_time": "2025-02-25T00:37:24.337Z"
   },
   {
    "duration": 13,
    "start_time": "2025-02-25T00:37:24.353Z"
   },
   {
    "duration": 43,
    "start_time": "2025-02-25T00:37:24.368Z"
   },
   {
    "duration": 2,
    "start_time": "2025-02-25T00:37:24.413Z"
   },
   {
    "duration": 315,
    "start_time": "2025-02-25T00:37:24.418Z"
   },
   {
    "duration": 6,
    "start_time": "2025-02-25T00:37:24.735Z"
   },
   {
    "duration": 6,
    "start_time": "2025-02-25T00:37:24.742Z"
   },
   {
    "duration": 11,
    "start_time": "2025-02-25T00:37:24.749Z"
   },
   {
    "duration": 89,
    "start_time": "2025-02-25T00:37:24.763Z"
   },
   {
    "duration": 7,
    "start_time": "2025-02-25T00:37:24.854Z"
   },
   {
    "duration": 18,
    "start_time": "2025-02-25T00:37:24.862Z"
   },
   {
    "duration": 8,
    "start_time": "2025-02-25T00:37:24.881Z"
   },
   {
    "duration": 104,
    "start_time": "2025-02-25T00:37:24.890Z"
   },
   {
    "duration": 27,
    "start_time": "2025-02-25T00:37:24.995Z"
   },
   {
    "duration": 201,
    "start_time": "2025-02-25T00:37:25.026Z"
   },
   {
    "duration": 203,
    "start_time": "2025-02-25T00:37:25.230Z"
   },
   {
    "duration": 198,
    "start_time": "2025-02-25T00:37:25.435Z"
   },
   {
    "duration": 123,
    "start_time": "2025-02-25T00:37:25.636Z"
   },
   {
    "duration": 127,
    "start_time": "2025-02-25T00:37:25.761Z"
   },
   {
    "duration": 144,
    "start_time": "2025-02-25T00:37:25.891Z"
   },
   {
    "duration": 170,
    "start_time": "2025-02-25T00:37:26.037Z"
   },
   {
    "duration": 169,
    "start_time": "2025-02-25T00:37:26.211Z"
   },
   {
    "duration": 180,
    "start_time": "2025-02-25T00:37:26.385Z"
   },
   {
    "duration": 8,
    "start_time": "2025-02-25T00:37:26.567Z"
   },
   {
    "duration": 174,
    "start_time": "2025-02-25T00:37:26.577Z"
   },
   {
    "duration": 8,
    "start_time": "2025-02-25T00:37:26.753Z"
   },
   {
    "duration": 238,
    "start_time": "2025-02-25T00:37:26.763Z"
   },
   {
    "duration": 10,
    "start_time": "2025-02-25T00:37:27.002Z"
   },
   {
    "duration": 176,
    "start_time": "2025-02-25T00:37:27.014Z"
   },
   {
    "duration": 5,
    "start_time": "2025-02-25T00:37:27.192Z"
   },
   {
    "duration": 15,
    "start_time": "2025-02-25T00:37:27.198Z"
   },
   {
    "duration": 5,
    "start_time": "2025-02-25T00:37:27.219Z"
   },
   {
    "duration": 5,
    "start_time": "2025-02-25T00:37:27.226Z"
   },
   {
    "duration": 4,
    "start_time": "2025-02-25T00:37:27.232Z"
   },
   {
    "duration": 496,
    "start_time": "2025-02-25T00:37:27.237Z"
   },
   {
    "duration": 9,
    "start_time": "2025-02-25T00:37:27.812Z"
   },
   {
    "duration": 9389,
    "start_time": "2025-02-25T00:37:27.824Z"
   },
   {
    "duration": 4,
    "start_time": "2025-02-25T00:37:37.215Z"
   },
   {
    "duration": 5186,
    "start_time": "2025-02-25T00:37:37.220Z"
   },
   {
    "duration": 4,
    "start_time": "2025-02-25T00:37:42.407Z"
   },
   {
    "duration": 15,
    "start_time": "2025-02-25T00:48:19.911Z"
   },
   {
    "duration": 10,
    "start_time": "2025-02-25T00:48:31.568Z"
   },
   {
    "duration": 13,
    "start_time": "2025-02-25T00:48:40.101Z"
   },
   {
    "duration": 3,
    "start_time": "2025-02-25T00:51:24.323Z"
   },
   {
    "duration": 264,
    "start_time": "2025-02-25T00:51:50.905Z"
   },
   {
    "duration": 4,
    "start_time": "2025-02-25T00:52:36.351Z"
   },
   {
    "duration": 2598,
    "start_time": "2025-02-25T16:14:34.148Z"
   },
   {
    "duration": 638,
    "start_time": "2025-02-25T16:14:36.748Z"
   },
   {
    "duration": 23,
    "start_time": "2025-02-25T16:14:37.388Z"
   },
   {
    "duration": 18,
    "start_time": "2025-02-25T16:14:37.414Z"
   },
   {
    "duration": 10,
    "start_time": "2025-02-25T16:14:37.434Z"
   },
   {
    "duration": 15,
    "start_time": "2025-02-25T16:14:37.446Z"
   },
   {
    "duration": 13,
    "start_time": "2025-02-25T16:14:37.463Z"
   },
   {
    "duration": 47,
    "start_time": "2025-02-25T16:14:37.478Z"
   },
   {
    "duration": 3,
    "start_time": "2025-02-25T16:14:37.527Z"
   },
   {
    "duration": 303,
    "start_time": "2025-02-25T16:14:37.534Z"
   },
   {
    "duration": 5,
    "start_time": "2025-02-25T16:14:37.839Z"
   },
   {
    "duration": 4,
    "start_time": "2025-02-25T16:14:37.846Z"
   },
   {
    "duration": 9,
    "start_time": "2025-02-25T16:14:37.851Z"
   },
   {
    "duration": 83,
    "start_time": "2025-02-25T16:14:37.861Z"
   },
   {
    "duration": 7,
    "start_time": "2025-02-25T16:14:37.946Z"
   },
   {
    "duration": 19,
    "start_time": "2025-02-25T16:14:37.954Z"
   },
   {
    "duration": 8,
    "start_time": "2025-02-25T16:14:37.975Z"
   },
   {
    "duration": 104,
    "start_time": "2025-02-25T16:14:37.985Z"
   },
   {
    "duration": 29,
    "start_time": "2025-02-25T16:14:38.091Z"
   },
   {
    "duration": 193,
    "start_time": "2025-02-25T16:14:38.122Z"
   },
   {
    "duration": 250,
    "start_time": "2025-02-25T16:14:38.317Z"
   },
   {
    "duration": 204,
    "start_time": "2025-02-25T16:14:38.569Z"
   },
   {
    "duration": 126,
    "start_time": "2025-02-25T16:14:38.775Z"
   },
   {
    "duration": 126,
    "start_time": "2025-02-25T16:14:38.902Z"
   },
   {
    "duration": 136,
    "start_time": "2025-02-25T16:14:39.029Z"
   },
   {
    "duration": 167,
    "start_time": "2025-02-25T16:14:39.166Z"
   },
   {
    "duration": 169,
    "start_time": "2025-02-25T16:14:39.334Z"
   },
   {
    "duration": 193,
    "start_time": "2025-02-25T16:14:39.512Z"
   },
   {
    "duration": 13,
    "start_time": "2025-02-25T16:14:39.706Z"
   },
   {
    "duration": 165,
    "start_time": "2025-02-25T16:14:39.721Z"
   },
   {
    "duration": 8,
    "start_time": "2025-02-25T16:14:39.888Z"
   },
   {
    "duration": 183,
    "start_time": "2025-02-25T16:14:39.898Z"
   },
   {
    "duration": 8,
    "start_time": "2025-02-25T16:14:40.083Z"
   },
   {
    "duration": 182,
    "start_time": "2025-02-25T16:14:40.093Z"
   },
   {
    "duration": 5,
    "start_time": "2025-02-25T16:14:40.277Z"
   },
   {
    "duration": 2,
    "start_time": "2025-02-25T16:14:40.284Z"
   },
   {
    "duration": 25,
    "start_time": "2025-02-25T16:14:40.288Z"
   },
   {
    "duration": 4,
    "start_time": "2025-02-25T16:14:40.315Z"
   },
   {
    "duration": 3,
    "start_time": "2025-02-25T16:14:40.321Z"
   },
   {
    "duration": 501,
    "start_time": "2025-02-25T16:14:40.325Z"
   },
   {
    "duration": 3,
    "start_time": "2025-02-25T16:14:40.828Z"
   },
   {
    "duration": 9432,
    "start_time": "2025-02-25T16:14:40.833Z"
   },
   {
    "duration": 4,
    "start_time": "2025-02-25T16:14:50.267Z"
   },
   {
    "duration": 5169,
    "start_time": "2025-02-25T16:14:50.273Z"
   },
   {
    "duration": 4,
    "start_time": "2025-02-25T16:14:55.445Z"
   },
   {
    "duration": 7,
    "start_time": "2025-02-25T17:15:08.802Z"
   },
   {
    "duration": 6,
    "start_time": "2025-02-25T17:49:37.399Z"
   },
   {
    "duration": 5,
    "start_time": "2025-02-25T17:51:13.075Z"
   },
   {
    "duration": 4,
    "start_time": "2025-02-25T17:54:20.627Z"
   },
   {
    "duration": 3,
    "start_time": "2025-02-25T17:55:28.085Z"
   },
   {
    "duration": 892,
    "start_time": "2025-02-25T18:06:44.318Z"
   },
   {
    "duration": 482,
    "start_time": "2025-02-25T18:06:45.212Z"
   },
   {
    "duration": 66,
    "start_time": "2025-02-25T18:06:45.696Z"
   },
   {
    "duration": 17,
    "start_time": "2025-02-25T18:06:45.765Z"
   },
   {
    "duration": 9,
    "start_time": "2025-02-25T18:06:45.784Z"
   },
   {
    "duration": 32,
    "start_time": "2025-02-25T18:06:45.794Z"
   },
   {
    "duration": 12,
    "start_time": "2025-02-25T18:06:45.828Z"
   },
   {
    "duration": 14,
    "start_time": "2025-02-25T18:06:45.842Z"
   },
   {
    "duration": 3,
    "start_time": "2025-02-25T18:06:45.857Z"
   },
   {
    "duration": 329,
    "start_time": "2025-02-25T18:06:45.863Z"
   },
   {
    "duration": 6,
    "start_time": "2025-02-25T18:06:46.194Z"
   },
   {
    "duration": 13,
    "start_time": "2025-02-25T18:06:46.201Z"
   },
   {
    "duration": 9,
    "start_time": "2025-02-25T18:06:46.217Z"
   },
   {
    "duration": 59,
    "start_time": "2025-02-25T18:06:46.227Z"
   },
   {
    "duration": 27,
    "start_time": "2025-02-25T18:06:46.287Z"
   },
   {
    "duration": 18,
    "start_time": "2025-02-25T18:06:46.316Z"
   },
   {
    "duration": 7,
    "start_time": "2025-02-25T18:06:46.336Z"
   },
   {
    "duration": 98,
    "start_time": "2025-02-25T18:06:46.344Z"
   },
   {
    "duration": 20,
    "start_time": "2025-02-25T18:06:46.444Z"
   },
   {
    "duration": 204,
    "start_time": "2025-02-25T18:06:46.466Z"
   },
   {
    "duration": 189,
    "start_time": "2025-02-25T18:06:46.672Z"
   },
   {
    "duration": 196,
    "start_time": "2025-02-25T18:06:46.862Z"
   },
   {
    "duration": 123,
    "start_time": "2025-02-25T18:06:47.060Z"
   },
   {
    "duration": 151,
    "start_time": "2025-02-25T18:06:47.185Z"
   },
   {
    "duration": 137,
    "start_time": "2025-02-25T18:06:47.338Z"
   },
   {
    "duration": 167,
    "start_time": "2025-02-25T18:06:47.477Z"
   },
   {
    "duration": 165,
    "start_time": "2025-02-25T18:06:47.646Z"
   },
   {
    "duration": 176,
    "start_time": "2025-02-25T18:06:47.816Z"
   },
   {
    "duration": 8,
    "start_time": "2025-02-25T18:06:47.993Z"
   },
   {
    "duration": 182,
    "start_time": "2025-02-25T18:06:48.003Z"
   },
   {
    "duration": 8,
    "start_time": "2025-02-25T18:06:48.187Z"
   },
   {
    "duration": 237,
    "start_time": "2025-02-25T18:06:48.197Z"
   },
   {
    "duration": 7,
    "start_time": "2025-02-25T18:06:48.436Z"
   },
   {
    "duration": 181,
    "start_time": "2025-02-25T18:06:48.445Z"
   },
   {
    "duration": 5,
    "start_time": "2025-02-25T18:06:48.628Z"
   },
   {
    "duration": 3,
    "start_time": "2025-02-25T18:06:48.634Z"
   },
   {
    "duration": 5,
    "start_time": "2025-02-25T18:06:48.638Z"
   },
   {
    "duration": 4,
    "start_time": "2025-02-25T18:06:48.645Z"
   },
   {
    "duration": 3,
    "start_time": "2025-02-25T18:06:48.651Z"
   },
   {
    "duration": 474,
    "start_time": "2025-02-25T18:06:48.655Z"
   },
   {
    "duration": 81,
    "start_time": "2025-02-25T18:06:49.131Z"
   },
   {
    "duration": 9371,
    "start_time": "2025-02-25T18:06:49.214Z"
   },
   {
    "duration": 3,
    "start_time": "2025-02-25T18:06:58.587Z"
   },
   {
    "duration": 5150,
    "start_time": "2025-02-25T18:06:58.592Z"
   },
   {
    "duration": 3,
    "start_time": "2025-02-25T18:07:03.744Z"
   }
  ],
  "kernelspec": {
   "display_name": "Python 3 (ipykernel)",
   "language": "python",
   "name": "python3"
  },
  "language_info": {
   "codemirror_mode": {
    "name": "ipython",
    "version": 3
   },
   "file_extension": ".py",
   "mimetype": "text/x-python",
   "name": "python",
   "nbconvert_exporter": "python",
   "pygments_lexer": "ipython3",
   "version": "3.9.19"
  },
  "toc": {
   "base_numbering": 1,
   "nav_menu": {},
   "number_sections": true,
   "sideBar": true,
   "skip_h1_title": true,
   "title_cell": "Table of Contents",
   "title_sidebar": "Contents",
   "toc_cell": false,
   "toc_position": {},
   "toc_section_display": true,
   "toc_window_display": false
  }
 },
 "nbformat": 4,
 "nbformat_minor": 2
}
